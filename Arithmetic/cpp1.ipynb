{
  "nbformat": 4,
  "nbformat_minor": 0,
  "metadata": {
    "colab": {
      "provenance": []
    },
    "kernelspec": {
      "name": "python3",
      "display_name": "Python 3"
    },
    "language_info": {
      "name": "python"
    }
  },
  "cells": [
    {
      "cell_type": "code",
      "source": [
        "scanf(\"%d%d\", &a, &b);\n",
        "printf(\"%d\", a+b);\n",
        "printf(\"%.9lf\", a/b);\n",
        "\n",
        "#include <iomanip>\n",
        "cout << fixed << setprecision(9) << a / static_cast<double>(b);"
      ],
      "metadata": {
        "id": "mONMpdW3S4Tb"
      },
      "execution_count": null,
      "outputs": []
    },
    {
      "cell_type": "code",
      "source": [],
      "metadata": {
        "id": "bcAf_eAjS4LV"
      },
      "execution_count": null,
      "outputs": []
    },
    {
      "cell_type": "markdown",
      "source": [
        "# [Hellow World 2557](https://www.acmicpc.net/problem/2557)"
      ],
      "metadata": {
        "id": "el72i8T2-1RL"
      }
    },
    {
      "cell_type": "code",
      "source": [
        "#include <iostream>\n",
        "#  C++에서 입출력을 처리하는 데 필요한 기능들을 제공\n",
        "\n",
        "using namespace\n",
        "# 특정한 범위 내에 이름을 정의하고, 이름의 충돌을 방지하기 위한 방법 중 하나"
      ],
      "metadata": {
        "id": "H60kJFI_E9n-"
      },
      "execution_count": null,
      "outputs": []
    },
    {
      "cell_type": "code",
      "execution_count": null,
      "metadata": {
        "colab": {
          "base_uri": "https://localhost:8080/"
        },
        "id": "SL04xkNcuitl",
        "outputId": "7c5a893a-2e54-4cea-c37d-bf78b8ef5b01"
      },
      "outputs": [
        {
          "output_type": "stream",
          "name": "stdout",
          "text": [
            "Writing hello.cpp\n"
          ]
        }
      ],
      "source": [
        "%%writefile hello.cpp\n",
        "#include <iostream>\n",
        "\n",
        "using namespace std;\n",
        "\n",
        "int main(){\n",
        "    cout << \"Hello World!\";\n",
        "    return 0;\n",
        "}"
      ]
    },
    {
      "cell_type": "code",
      "source": [
        "%%shell\n",
        "g++ hello.cpp -o bout\n",
        "./bout"
      ],
      "metadata": {
        "colab": {
          "base_uri": "https://localhost:8080/"
        },
        "id": "_kMKBRDou7m5",
        "outputId": "1e4ea040-87f6-4cd2-976e-fd874c73faa6"
      },
      "execution_count": null,
      "outputs": [
        {
          "output_type": "stream",
          "name": "stdout",
          "text": [
            "Hello World!"
          ]
        },
        {
          "output_type": "execute_result",
          "data": {
            "text/plain": []
          },
          "metadata": {},
          "execution_count": 4
        }
      ]
    },
    {
      "cell_type": "code",
      "source": [
        "# g++  :  GNU Compiler Collection의 C++ 컴파일러를 실행하는 데 사용\n",
        "# -o   : 출력 파일 이름 지정.\n",
        "# bout : 컴파일된 바이너리를 out해달라."
      ],
      "metadata": {
        "id": "hV4Gl0vAv8AF"
      },
      "execution_count": null,
      "outputs": []
    },
    {
      "cell_type": "markdown",
      "source": [
        "# [A+B 1000](https://www.acmicpc.net/problem/1000)"
      ],
      "metadata": {
        "id": "U5Ic4itJ_EuX"
      }
    },
    {
      "cell_type": "code",
      "source": [
        "# input\n",
        "scanf()\n",
        "std::cin >> # 자동으로 형 변환\n",
        "\n",
        "\n",
        "# 출력\n",
        "cout <<\n",
        "printf()"
      ],
      "metadata": {
        "id": "wjS_gShqBbTl"
      },
      "execution_count": null,
      "outputs": []
    },
    {
      "cell_type": "code",
      "source": [
        "%%writefile plus.cpp\n",
        "#include <iostream>\n",
        "\n",
        "using namespace std;\n",
        "\n",
        "int main(){\n",
        "    int a, b;\n",
        "    // scanf(\"%d %d\", &a, &b);\n",
        "    cin >> a >> b;\n",
        "\n",
        "    //cout << a+b;\n",
        "    printf(\"%d\", a+b);\n",
        "\n",
        "    return 0;\n",
        "}"
      ],
      "metadata": {
        "colab": {
          "base_uri": "https://localhost:8080/"
        },
        "id": "v-fM7_V__IxF",
        "outputId": "4decd677-2267-483a-bfbc-c4a077fbba8b"
      },
      "execution_count": null,
      "outputs": [
        {
          "output_type": "stream",
          "name": "stdout",
          "text": [
            "Overwriting plus.cpp\n"
          ]
        }
      ]
    },
    {
      "cell_type": "code",
      "source": [
        "%%shell\n",
        "g++ plus.cpp -o bout\n",
        "./bout"
      ],
      "metadata": {
        "colab": {
          "base_uri": "https://localhost:8080/"
        },
        "id": "1DCRMbro_g3D",
        "outputId": "c850e9ed-a371-45a2-a4e5-46004e0e7853"
      },
      "execution_count": null,
      "outputs": [
        {
          "output_type": "stream",
          "name": "stdout",
          "text": [
            "1 2\n",
            "3"
          ]
        },
        {
          "output_type": "execute_result",
          "data": {
            "text/plain": []
          },
          "metadata": {},
          "execution_count": 13
        }
      ]
    },
    {
      "cell_type": "code",
      "source": [
        "%%shell\n",
        "g++ plus.cpp -o bout\n",
        "./bout"
      ],
      "metadata": {
        "colab": {
          "base_uri": "https://localhost:8080/"
        },
        "id": "BzWYGtqK_j15",
        "outputId": "e761c380-2d57-483b-8564-aba86d6901be"
      },
      "execution_count": null,
      "outputs": [
        {
          "output_type": "stream",
          "name": "stdout",
          "text": [
            "5 7\n",
            "12"
          ]
        },
        {
          "output_type": "execute_result",
          "data": {
            "text/plain": []
          },
          "metadata": {},
          "execution_count": 17
        }
      ]
    },
    {
      "cell_type": "code",
      "source": [
        "%%shell\n",
        "g++ plus.cpp -o bout\n",
        "./bout"
      ],
      "metadata": {
        "colab": {
          "base_uri": "https://localhost:8080/"
        },
        "id": "J8GBCZmhAHNh",
        "outputId": "c6809ba7-58ac-4928-ef88-e16cf96e3901"
      },
      "execution_count": null,
      "outputs": [
        {
          "output_type": "stream",
          "name": "stdout",
          "text": [
            "152 3232\n",
            "3384"
          ]
        },
        {
          "output_type": "execute_result",
          "data": {
            "text/plain": []
          },
          "metadata": {},
          "execution_count": 21
        }
      ]
    },
    {
      "cell_type": "markdown",
      "source": [
        "# [A*B 10998](https://www.acmicpc.net/problem/10998)"
      ],
      "metadata": {
        "id": "PlHom6y5BIhH"
      }
    },
    {
      "cell_type": "code",
      "source": [
        "%%writefile multiple.cpp\n",
        "#include <iostream>\n",
        "using namespace std;\n",
        "\n",
        "int main(){\n",
        "    int a,b;\n",
        "    scanf(\"%d%d\", &a, &b);\n",
        "    printf(\"%d\", a*b);\n",
        "    return 0;\n",
        "}"
      ],
      "metadata": {
        "colab": {
          "base_uri": "https://localhost:8080/"
        },
        "id": "Rd4Q6q-uBv9p",
        "outputId": "f769c925-4516-4a65-ec98-0a2a600af749"
      },
      "execution_count": null,
      "outputs": [
        {
          "output_type": "stream",
          "name": "stdout",
          "text": [
            "Overwriting multiple.cpp\n"
          ]
        }
      ]
    },
    {
      "cell_type": "code",
      "source": [
        "%%shell\n",
        "g++ multiple.cpp -o bout\n",
        "./bout"
      ],
      "metadata": {
        "colab": {
          "base_uri": "https://localhost:8080/"
        },
        "id": "l1rsxR74Cb7C",
        "outputId": "2d292e2f-8384-4404-83a9-45e0f2a15e41"
      },
      "execution_count": null,
      "outputs": [
        {
          "output_type": "stream",
          "name": "stdout",
          "text": [
            "16 16\n",
            "256"
          ]
        },
        {
          "output_type": "execute_result",
          "data": {
            "text/plain": []
          },
          "metadata": {},
          "execution_count": 25
        }
      ]
    },
    {
      "cell_type": "markdown",
      "source": [
        "# [A-B 1001](https://www.acmicpc.net/problem/1001)"
      ],
      "metadata": {
        "id": "vRik6CboChrZ"
      }
    },
    {
      "cell_type": "code",
      "source": [
        "%%writefile mius.cpp\n",
        "#include <iostream>\n",
        "using namespace std;\n",
        "\n",
        "int main(){\n",
        "    int a,b;\n",
        "    cin >> a >> b;\n",
        "    cout << a-b;\n",
        "    return 0;\n",
        "}"
      ],
      "metadata": {
        "colab": {
          "base_uri": "https://localhost:8080/"
        },
        "id": "Fub374e1D7wi",
        "outputId": "3046d7f6-32fe-478a-cad8-724daa292d86"
      },
      "execution_count": null,
      "outputs": [
        {
          "output_type": "stream",
          "name": "stdout",
          "text": [
            "Overwriting mius.cpp\n"
          ]
        }
      ]
    },
    {
      "cell_type": "code",
      "source": [
        "%%shell\n",
        "g++ mius.cpp -o bout\n",
        "./bout"
      ],
      "metadata": {
        "colab": {
          "base_uri": "https://localhost:8080/"
        },
        "id": "Fi0LregpEQqf",
        "outputId": "567b6a6f-73b1-40ff-9e9b-a1124e6b4989"
      },
      "execution_count": null,
      "outputs": [
        {
          "output_type": "stream",
          "name": "stdout",
          "text": [
            "959 353\n",
            "606"
          ]
        },
        {
          "output_type": "execute_result",
          "data": {
            "text/plain": []
          },
          "metadata": {},
          "execution_count": 31
        }
      ]
    },
    {
      "cell_type": "markdown",
      "source": [
        "# [A/B 1008](https://www.acmicpc.net/problem/1008)"
      ],
      "metadata": {
        "id": "3uAIyc_BEUSK"
      }
    },
    {
      "cell_type": "code",
      "source": [
        "# 형 변환\n",
        "float(b)\n",
        "# 명시적 형 변환\n",
        "static_cast<float>(b)"
      ],
      "metadata": {
        "id": "TRGjN-vHHQd3"
      },
      "execution_count": null,
      "outputs": []
    },
    {
      "cell_type": "code",
      "source": [
        "%%writefile divide.cpp\n",
        "# include <iostream>\n",
        "#include <iomanip>\n",
        "using namespace std;\n",
        "\n",
        "int main(){\n",
        "    int a, b;\n",
        "    cin >> a >> b;\n",
        "    // cout << a / float(b);\n",
        "    // cout << a / static_cast<float>(b);\n",
        "    cout << fixed << setprecision(9) << a / static_cast<double>(b);\n",
        "\n",
        "    return 0;\n",
        "}"
      ],
      "metadata": {
        "colab": {
          "base_uri": "https://localhost:8080/"
        },
        "id": "BwvLlSk9Ena3",
        "outputId": "d1691263-c14c-4c0c-c04e-fb9b13cd6945"
      },
      "execution_count": 27,
      "outputs": [
        {
          "output_type": "stream",
          "name": "stdout",
          "text": [
            "Overwriting divide.cpp\n"
          ]
        }
      ]
    },
    {
      "cell_type": "code",
      "source": [
        "cout << a / float(b);\n",
        "cout << a / static_cast<float>(b);\n",
        "# 이렇게 하면 틀렸데"
      ],
      "metadata": {
        "id": "NVzSjKRdXyOj"
      },
      "execution_count": null,
      "outputs": []
    },
    {
      "cell_type": "code",
      "source": [
        "%%shell\n",
        "g++ divide.cpp -o bout\n",
        "./bout"
      ],
      "metadata": {
        "colab": {
          "base_uri": "https://localhost:8080/"
        },
        "id": "uv6BbWDoFwDq",
        "outputId": "20fe088f-ba32-4de9-c984-bd8ae0143539"
      },
      "execution_count": null,
      "outputs": [
        {
          "output_type": "stream",
          "name": "stdout",
          "text": [
            "1 3\n",
            "0.333333"
          ]
        },
        {
          "output_type": "execute_result",
          "data": {
            "text/plain": []
          },
          "metadata": {},
          "execution_count": 43
        }
      ]
    },
    {
      "cell_type": "code",
      "source": [
        "#include <iomanip>\n",
        "-->  다양한 입출력 포맷 설정을 제공\n",
        "# setprecision: 소수점 이하 자리수를 설정\n",
        "# fixed: 고정 소수점 모드로 전환\n",
        "\n",
        "cout << fixed << setprecision(9) << a / static_cast<double>(b);\n",
        "# 맞았데"
      ],
      "metadata": {
        "id": "4EwaJCB6X1xq"
      },
      "execution_count": null,
      "outputs": []
    },
    {
      "cell_type": "code",
      "source": [
        "%%shell\n",
        "g++ divide.cpp -o bout\n",
        "./bout"
      ],
      "metadata": {
        "id": "lYqX_2-xHLL5",
        "colab": {
          "base_uri": "https://localhost:8080/"
        },
        "outputId": "20a993bc-75f0-4543-a278-f892db48bf1f"
      },
      "execution_count": 58,
      "outputs": [
        {
          "output_type": "stream",
          "name": "stdout",
          "text": [
            "1 3\n",
            "0.333333333"
          ]
        },
        {
          "output_type": "execute_result",
          "data": {
            "text/plain": []
          },
          "metadata": {},
          "execution_count": 58
        }
      ]
    },
    {
      "cell_type": "code",
      "source": [
        "%%writefile divide.cpp\n",
        "#include <iostream>\n",
        "using namespace std;\n",
        "\n",
        "int main(){\n",
        "    double a, b;\n",
        "    cin >> a >> b;\n",
        "    printf(\"%.9lf\", a/b);\n",
        "//    cout << fixed << setprecision(9) << a / static_cast<double>(b);\n",
        "\n",
        "    return 0;\n",
        "}"
      ],
      "metadata": {
        "colab": {
          "base_uri": "https://localhost:8080/"
        },
        "id": "n5kY2MfHP63W",
        "outputId": "5b1e7ebc-374d-4393-eb52-c099c14be1f7"
      },
      "execution_count": 1,
      "outputs": [
        {
          "output_type": "stream",
          "name": "stdout",
          "text": [
            "Writing divide.cpp\n"
          ]
        }
      ]
    },
    {
      "cell_type": "code",
      "source": [
        "lf = long float"
      ],
      "metadata": {
        "id": "DMHMyS-j5qpl"
      },
      "execution_count": null,
      "outputs": []
    },
    {
      "cell_type": "code",
      "source": [
        "%%shell\n",
        "g++ divide.cpp -o bout\n",
        "./bout"
      ],
      "metadata": {
        "colab": {
          "base_uri": "https://localhost:8080/"
        },
        "id": "CGChRiiI5jCj",
        "outputId": "a6e3838f-abcc-4e93-cec1-f5a03bf803c7"
      },
      "execution_count": 2,
      "outputs": [
        {
          "output_type": "stream",
          "name": "stdout",
          "text": [
            "1 3\n",
            "0.333333333"
          ]
        },
        {
          "output_type": "execute_result",
          "data": {
            "text/plain": []
          },
          "metadata": {},
          "execution_count": 2
        }
      ]
    },
    {
      "cell_type": "markdown",
      "source": [
        "# [사칙연산 10869](https://www.acmicpc.net/problem/10869)"
      ],
      "metadata": {
        "id": "areY5pmG5j6G"
      }
    },
    {
      "cell_type": "code",
      "source": [
        "첫째 줄에 A+B, 둘째 줄에 A-B, 셋째 줄에 A*B, 넷째 줄에 A/B, 다섯째 줄에 A%B를 출력한다."
      ],
      "metadata": {
        "id": "q6HEA4pjJe9P"
      },
      "execution_count": null,
      "outputs": []
    },
    {
      "cell_type": "code",
      "source": [
        "%%writefile arithmetic.cpp\n",
        "\n",
        "#include <iostream>\n",
        "using namespace std;\n",
        "\n",
        "int main(){\n",
        "    int a, b;\n",
        "    scanf(\"%d%d\", &a, &b);\n",
        "    //+\n",
        "    printf(\"%d\\n\", a+b);\n",
        "\n",
        "    //-\n",
        "    printf(\"%d\\n\", a-b);\n",
        "\n",
        "    //*\n",
        "    printf(\"%d\", a*b);\n",
        "    cout << endl;\n",
        "    // /\n",
        "    printf(\"%d\", a/b);\n",
        "    cout << endl;\n",
        "    //%\n",
        "    printf(\"%d\", a%b);\n",
        "\n",
        "    return 0;\n",
        "}"
      ],
      "metadata": {
        "colab": {
          "base_uri": "https://localhost:8080/"
        },
        "id": "CLtF05qXJhW_",
        "outputId": "78df89bc-7ff5-4cea-f36e-87e93b50d068"
      },
      "execution_count": 15,
      "outputs": [
        {
          "output_type": "stream",
          "name": "stdout",
          "text": [
            "Overwriting arithmetic.cpp\n"
          ]
        }
      ]
    },
    {
      "cell_type": "code",
      "source": [
        "%%shell\n",
        "g++ arithmetic.cpp -o bout\n",
        "./bout"
      ],
      "metadata": {
        "colab": {
          "base_uri": "https://localhost:8080/"
        },
        "id": "2v1IWC7aKXV5",
        "outputId": "055e2625-f1bc-4cd2-9361-55e1466fe323"
      },
      "execution_count": 16,
      "outputs": [
        {
          "output_type": "stream",
          "name": "stdout",
          "text": [
            "5 9\n",
            "14\n",
            "-4\n",
            "45\n",
            "0\n",
            "5"
          ]
        },
        {
          "output_type": "execute_result",
          "data": {
            "text/plain": []
          },
          "metadata": {},
          "execution_count": 16
        }
      ]
    },
    {
      "cell_type": "markdown",
      "source": [
        "# [나머지 10430](https://www.acmicpc.net/problem/10430)\n"
      ],
      "metadata": {
        "id": "mc_cDRXFKfX8"
      }
    },
    {
      "cell_type": "code",
      "source": [
        "첫째 줄에 (A+B)%C,\n",
        "둘째 줄에 ((A%C) + (B%C))%C,\n",
        "셋째 줄에 (A×B)%C,\n",
        "넷째 줄에 ((A%C) × (B%C))%C를 출력한다."
      ],
      "metadata": {
        "id": "GShwu2qkMC3W"
      },
      "execution_count": null,
      "outputs": []
    },
    {
      "cell_type": "code",
      "source": [
        "%%writefile theRest.cpp\n",
        "#include <iostream>\n",
        "using namespace std;\n",
        "\n",
        "int main(){\n",
        "    int a,b,c;\n",
        "    scanf(\"%d%d%d\", &a,&b,&c);\n",
        "    printf(\"%d \\n\", (a+b)%c);\n",
        "    printf(\"%d \\n\", ((a%c)+(b%c))%c);\n",
        "    printf(\"%d \\n\", (a*b)%c);\n",
        "    printf(\"%d\", ((a%c)*(b%c)%c));\n",
        "\n",
        "    return 0;\n",
        "}"
      ],
      "metadata": {
        "colab": {
          "base_uri": "https://localhost:8080/"
        },
        "id": "w0EpQiVyMNZJ",
        "outputId": "d76591f5-bdaa-40bc-ee30-1e21d9393cb4"
      },
      "execution_count": 25,
      "outputs": [
        {
          "output_type": "stream",
          "name": "stdout",
          "text": [
            "Overwriting theRest.cpp\n"
          ]
        }
      ]
    },
    {
      "cell_type": "code",
      "source": [
        "%%shell\n",
        "g++ theRest.cpp -o bout\n",
        "./bout"
      ],
      "metadata": {
        "colab": {
          "base_uri": "https://localhost:8080/"
        },
        "id": "C1rNdgGLR4JT",
        "outputId": "4ae5b5be-a3c0-4a3a-c6bf-b1fd26df6d5a"
      },
      "execution_count": 26,
      "outputs": [
        {
          "output_type": "stream",
          "name": "stdout",
          "text": [
            "5 8 4\n",
            "1 \n",
            "1 \n",
            "0 \n",
            "0"
          ]
        },
        {
          "output_type": "execute_result",
          "data": {
            "text/plain": []
          },
          "metadata": {},
          "execution_count": 26
        }
      ]
    }
  ]
}