{
  "nbformat": 4,
  "nbformat_minor": 0,
  "metadata": {
    "colab": {
      "provenance": []
    },
    "kernelspec": {
      "name": "python3",
      "display_name": "Python 3"
    },
    "language_info": {
      "name": "python"
    }
  },
  "cells": [
    {
      "cell_type": "markdown",
      "source": [
        "# [상근이의 친구들 5717](https://www.acmicpc.net/problem/5717)"
      ],
      "metadata": {
        "id": "1OW9kvo9GzaS"
      }
    },
    {
      "cell_type": "code",
      "source": [
        "return\n",
        "# 상근이의 친구의 수를 출력"
      ],
      "metadata": {
        "id": "d7R-pKTRJnhi"
      },
      "execution_count": null,
      "outputs": []
    },
    {
      "cell_type": "code",
      "source": [
        "%%writefile friend.cpp\n",
        "#include <iostream>\n",
        "using namespace std;\n",
        "\n",
        "int main()\n",
        "{\n",
        "    int m, f;\n",
        "    while (true)\n",
        "    {\n",
        "        scanf(\"%d%d\", &m, &f);\n",
        "        if (m == 0 && f == 0)\n",
        "        {\n",
        "            break;\n",
        "        }else\n",
        "        printf(\"%d\\n\", m + f);\n",
        "    }\n",
        "    return 0;\n",
        "}"
      ],
      "metadata": {
        "colab": {
          "base_uri": "https://localhost:8080/"
        },
        "id": "qwpCoKOjG2jK",
        "outputId": "afcc74d4-4196-4fff-85c1-b837d6a0b9d6"
      },
      "execution_count": 5,
      "outputs": [
        {
          "output_type": "stream",
          "name": "stdout",
          "text": [
            "Writing friend.cpp\n"
          ]
        }
      ]
    },
    {
      "cell_type": "code",
      "source": [
        "%%shell\n",
        "g++ friend.cpp\n",
        "./a.out"
      ],
      "metadata": {
        "colab": {
          "base_uri": "https://localhost:8080/"
        },
        "id": "2i-wvU_QIz6h",
        "outputId": "259eb9da-c1f0-4fa0-e627-ba3254b442d1"
      },
      "execution_count": 6,
      "outputs": [
        {
          "output_type": "stream",
          "name": "stdout",
          "text": [
            "2 2\n",
            "4\n",
            "2 3\n",
            "5\n",
            "5 5\n",
            "10\n",
            "1 1\n",
            "2\n",
            "0 0\n"
          ]
        },
        {
          "output_type": "execute_result",
          "data": {
            "text/plain": []
          },
          "metadata": {},
          "execution_count": 6
        }
      ]
    },
    {
      "cell_type": "markdown",
      "source": [
        "---\n",
        "---"
      ],
      "metadata": {
        "id": "-Ue14TPTJFX2"
      }
    },
    {
      "cell_type": "code",
      "source": [
        "#include<ios>\n",
        "int main(){int m,f;\n",
        "           while(scanf(\"%d%d\",&m,&f))\n",
        "           {if(!(m+f))break;\n",
        "           printf(\"%d\\n\",m+f);}}"
      ],
      "metadata": {
        "id": "zwDccjIEKGCn"
      },
      "execution_count": null,
      "outputs": []
    },
    {
      "cell_type": "code",
      "source": [
        "!(m + f) -> !(0) -> !(false) -> true"
      ],
      "metadata": {
        "id": "YjqwSSa7KxgC"
      },
      "execution_count": null,
      "outputs": []
    }
  ]
}