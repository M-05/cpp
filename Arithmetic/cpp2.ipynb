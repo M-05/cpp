{
  "nbformat": 4,
  "nbformat_minor": 0,
  "metadata": {
    "colab": {
      "provenance": []
    },
    "kernelspec": {
      "name": "python3",
      "display_name": "Python 3"
    },
    "language_info": {
      "name": "python"
    }
  },
  "cells": [
    {
      "cell_type": "markdown",
      "source": [
        "# [A+B - 7 11021](https://www.acmicpc.net/problem/11021)"
      ],
      "metadata": {
        "id": "goiFj7jRL5Qb"
      }
    },
    {
      "cell_type": "code",
      "execution_count": null,
      "metadata": {
        "colab": {
          "base_uri": "https://localhost:8080/"
        },
        "id": "fN7xqZgwGhL2",
        "outputId": "d908dccc-edb7-47f2-9822-c61da392641e"
      },
      "outputs": [
        {
          "output_type": "stream",
          "name": "stdout",
          "text": [
            "Overwriting plus.cpp\n"
          ]
        }
      ],
      "source": [
        "%%writefile plus.cpp\n",
        "#include <iostream>\n",
        "using namespace std;\n",
        "\n",
        "int main(){\n",
        "    int n, a, b;\n",
        "    scanf(\"%d\", &n);\n",
        "    for (int i; i < n; i++){\n",
        "        scanf(\"%d%d\", &a, &b);\n",
        "        cout << \"Case #\" << i+1 << \": \" << a + b << endl;\n",
        "        // printf(\"Case #%d: %d\\n\", i+1, a+b)\n",
        "    }\n",
        "    return 0;\n",
        "}"
      ]
    },
    {
      "cell_type": "code",
      "source": [
        "%%shell\n",
        "g++ plus.cpp -o bout\n",
        "./bout"
      ],
      "metadata": {
        "colab": {
          "base_uri": "https://localhost:8080/"
        },
        "id": "2n7KdyO_HV4D",
        "outputId": "cda07016-a053-45e3-b563-63a02c02010d"
      },
      "execution_count": null,
      "outputs": [
        {
          "output_type": "stream",
          "name": "stdout",
          "text": [
            "5\n",
            "1 1\n",
            "Case #1: 22 3\n",
            "Case #2: 53 4\n",
            "Case #3: 79 8\n",
            "Case #4: 175 2\n",
            "Case #5: 7"
          ]
        },
        {
          "output_type": "execute_result",
          "data": {
            "text/plain": []
          },
          "metadata": {},
          "execution_count": 22
        }
      ]
    },
    {
      "cell_type": "markdown",
      "source": [
        "# [A+B - 8 11022](https://www.acmicpc.net/problem/11022)"
      ],
      "metadata": {
        "id": "E3FWel8gL-ow"
      }
    },
    {
      "cell_type": "code",
      "source": [
        "%%writefile plus2.cpp\n",
        "#include <iostream>\n",
        "using namespace std;\n",
        "\n",
        "int main(){\n",
        "    int N, a, b, i = 1;\n",
        "\n",
        "    cin >> N;\n",
        "    while(i <= N){\n",
        "        cin >> a >> b;\n",
        "        printf(\"Case #%d: %d + %d = %d\\n\",i++,a,b,a+b);\n",
        "    }\n",
        "    return 0;\n",
        "}"
      ],
      "metadata": {
        "colab": {
          "base_uri": "https://localhost:8080/"
        },
        "id": "S2s2Qcp2MEoS",
        "outputId": "05e9a430-abd6-4fd0-a610-f9d475e8462a"
      },
      "execution_count": null,
      "outputs": [
        {
          "output_type": "stream",
          "name": "stdout",
          "text": [
            "Overwriting plus2.cpp\n"
          ]
        }
      ]
    },
    {
      "cell_type": "code",
      "source": [
        "%%shell\n",
        "g++ plus2.cpp -o bout\n",
        "./bout"
      ],
      "metadata": {
        "colab": {
          "base_uri": "https://localhost:8080/"
        },
        "id": "TxeSUihINOMe",
        "outputId": "162bd525-a985-4e21-8438-cb642af502ad"
      },
      "execution_count": null,
      "outputs": [
        {
          "output_type": "stream",
          "name": "stdout",
          "text": [
            "5\n",
            "1 1\n",
            "Case #1: 1 + 1 = 22 3\n",
            "Case #2: 2 + 3 = 54 6\n",
            "Case #3: 4 + 6 = 107 9\n",
            "Case #4: 7 + 9 = 162 4\n",
            "Case #5: 2 + 4 = 6"
          ]
        },
        {
          "output_type": "execute_result",
          "data": {
            "text/plain": []
          },
          "metadata": {},
          "execution_count": 32
        }
      ]
    },
    {
      "cell_type": "code",
      "source": [
        "%%writefile word.cpp\n",
        "\n",
        "#include <iostream>\n",
        "#include <vector>\n",
        "#include <cctype>\n",
        "\n",
        "int main() {\n",
        "    // 소문자 알파벳 배열 생성\n",
        "    std::vector<char> lower;\n",
        "    for (char ch = 'a'; ch <= 'z'; ++ch) {\n",
        "        lower.push_back(ch);\n",
        "    }\n",
        "\n",
        "\n",
        "    return 0;\n",
        "}\n"
      ],
      "metadata": {
        "colab": {
          "base_uri": "https://localhost:8080/"
        },
        "id": "vwrISv4pNWR0",
        "outputId": "3cdd1e2e-0360-41c8-b161-b0b643ff98be"
      },
      "execution_count": null,
      "outputs": [
        {
          "output_type": "stream",
          "name": "stdout",
          "text": [
            "Overwriting word.cpp\n"
          ]
        }
      ]
    },
    {
      "cell_type": "code",
      "source": [
        "%%shell\n",
        "g++ word.cpp -o bout\n",
        "./bout"
      ],
      "metadata": {
        "colab": {
          "base_uri": "https://localhost:8080/"
        },
        "id": "K4AY6HOJBxZp",
        "outputId": "b264ef44-30a9-4cb4-c521-989f61416a95"
      },
      "execution_count": null,
      "outputs": [
        {
          "output_type": "execute_result",
          "data": {
            "text/plain": []
          },
          "metadata": {},
          "execution_count": 14
        }
      ]
    },
    {
      "cell_type": "code",
      "source": [
        "%%writefile range.cpp\n",
        "#include <iostream>\n",
        "using namespace std;\n",
        "int main(){\n",
        "    int score;\n",
        "\n",
        "    cin >> score;\n",
        "    if (score >= 90) {\n",
        "        cout << \"A\";\n",
        "    } else if (score >=80) {\n",
        "        cout << \"B\";\n",
        "    } else if (score >= 70) {\n",
        "        cout << \"C\";\n",
        "    } else if (score >= 60) {\n",
        "        cout << \"D\";\n",
        "    } else {\n",
        "        cout << \"F\";\n",
        "    }\n",
        "    return 0;\n",
        "}"
      ],
      "metadata": {
        "colab": {
          "base_uri": "https://localhost:8080/"
        },
        "id": "Kj5K0sLCB1vC",
        "outputId": "c68e06b0-4112-4cee-81ca-bda8b8db5ed7"
      },
      "execution_count": null,
      "outputs": [
        {
          "output_type": "stream",
          "name": "stdout",
          "text": [
            "Overwriting range.cpp\n"
          ]
        }
      ]
    },
    {
      "cell_type": "code",
      "source": [
        "%%shell\n",
        "g++ range.cpp -o bout\n",
        "./bout"
      ],
      "metadata": {
        "colab": {
          "base_uri": "https://localhost:8080/"
        },
        "id": "xuz2Q0VmDk0S",
        "outputId": "f9ab63c3-a8d1-4666-d8a4-c379adcb4b23"
      },
      "execution_count": null,
      "outputs": [
        {
          "output_type": "stream",
          "name": "stdout",
          "text": [
            "100\n",
            "A"
          ]
        },
        {
          "output_type": "execute_result",
          "data": {
            "text/plain": []
          },
          "metadata": {},
          "execution_count": 21
        }
      ]
    },
    {
      "cell_type": "code",
      "source": [
        "#include<stdio.h>\n",
        "int main(){\n",
        "    int n;\n",
        "    scanf(\"%d\",&n);\n",
        "    printf(\"%c\",n>=90?'A':\n",
        "     (n>=80?'B':\n",
        "      (n>=70?'C':\n",
        "       (n>=60?'D':\n",
        "        'F'\n",
        "        ))));\n",
        "    }"
      ],
      "metadata": {
        "id": "zrLu2B5JDpWW"
      },
      "execution_count": null,
      "outputs": []
    }
  ]
}