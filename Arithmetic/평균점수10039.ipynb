{
  "nbformat": 4,
  "nbformat_minor": 0,
  "metadata": {
    "colab": {
      "provenance": []
    },
    "kernelspec": {
      "name": "python3",
      "display_name": "Python 3"
    },
    "language_info": {
      "name": "python"
    }
  },
  "cells": [
    {
      "cell_type": "markdown",
      "source": [
        "# [평균 점수 10039](https://www.acmicpc.net/problem/10039)"
      ],
      "metadata": {
        "id": "a2s2AiSX7JdV"
      }
    },
    {
      "cell_type": "code",
      "source": [
        "return\n",
        "# 학생 5명의 평균 점수를 출력"
      ],
      "metadata": {
        "id": "JYX4K2H87xbY"
      },
      "execution_count": null,
      "outputs": []
    },
    {
      "cell_type": "code",
      "source": [
        "10\n",
        "65\n",
        "100\n",
        "30\n",
        "95"
      ],
      "metadata": {
        "id": "xiDHL0MB7sJb"
      },
      "execution_count": null,
      "outputs": []
    },
    {
      "cell_type": "code",
      "source": [
        "%%writefile mean.cpp\n",
        "\n",
        "#include <iostream>\n",
        "#include <vector>\n",
        "using namespace std;\n",
        "\n",
        "int main()\n",
        "{\n",
        "    int input, score =0;\n",
        "    for (int i=0; i<5; i++)\n",
        "    {\n",
        "        //getline(std::cin, input);\n",
        "        cin >> input;\n",
        "        if (input < 40)\n",
        "        {\n",
        "            score += 40;\n",
        "        } else\n",
        "        {\n",
        "            score += input;\n",
        "        }\n",
        "\n",
        "    }\n",
        "    printf(\"%d\\n\", score /5);\n",
        "\n",
        "    return 0;\n",
        "}"
      ],
      "metadata": {
        "colab": {
          "base_uri": "https://localhost:8080/"
        },
        "id": "ghQhFCZe8H-m",
        "outputId": "b3442747-bd34-4879-dff7-50062bdd5382"
      },
      "execution_count": 22,
      "outputs": [
        {
          "output_type": "stream",
          "name": "stdout",
          "text": [
            "Overwriting mean.cpp\n"
          ]
        }
      ]
    },
    {
      "cell_type": "code",
      "source": [
        "%%shell\n",
        "g++ mean.cpp\n",
        "./a.out"
      ],
      "metadata": {
        "colab": {
          "base_uri": "https://localhost:8080/"
        },
        "id": "qRqY9HPy8gdf",
        "outputId": "99f36e21-0414-4cad-f03c-7f1f3d60b9e4"
      },
      "execution_count": 23,
      "outputs": [
        {
          "output_type": "stream",
          "name": "stdout",
          "text": [
            "10\n",
            "65\n",
            "100\n",
            "30\n",
            "95\n",
            "68\n"
          ]
        },
        {
          "output_type": "execute_result",
          "data": {
            "text/plain": []
          },
          "metadata": {},
          "execution_count": 23
        }
      ]
    },
    {
      "cell_type": "code",
      "source": [
        "import statistics\n",
        "s=[10,\n",
        "65,\n",
        "100,\n",
        "30,\n",
        "95]\n",
        "\n",
        "statistics.mean(s)"
      ],
      "metadata": {
        "colab": {
          "base_uri": "https://localhost:8080/"
        },
        "id": "obFX8Zwe8jvG",
        "outputId": "51834d2f-e1dc-4ec9-8f73-107515dd1517"
      },
      "execution_count": 17,
      "outputs": [
        {
          "output_type": "execute_result",
          "data": {
            "text/plain": [
              "60"
            ]
          },
          "metadata": {},
          "execution_count": 17
        }
      ]
    },
    {
      "cell_type": "code",
      "source": [
        "%%writefile mean.cpp\n",
        "\n",
        "#include <iostream>\n",
        "\n",
        "using namespace std;\n",
        "\n",
        "int main(){\n",
        "    int input, score=0;\n",
        "    for(int i=0; i<5; i++){\n",
        "        cin >> input;\n",
        "        score += (input<40 ? 40 : input);\n",
        "    }\n",
        "    cout << score /5 << endl;\n",
        "}"
      ],
      "metadata": {
        "colab": {
          "base_uri": "https://localhost:8080/"
        },
        "id": "oRiIsC7Z9qC-",
        "outputId": "797c8148-0f46-486f-fb74-d12678af23be"
      },
      "execution_count": 24,
      "outputs": [
        {
          "output_type": "stream",
          "name": "stdout",
          "text": [
            "Overwriting mean.cpp\n"
          ]
        }
      ]
    },
    {
      "cell_type": "code",
      "source": [
        "%%shell\n",
        "g++ mean.cpp\n",
        "./a.out"
      ],
      "metadata": {
        "colab": {
          "base_uri": "https://localhost:8080/"
        },
        "id": "yd7XzKP9Amy2",
        "outputId": "ee714d99-f980-4d9b-d6e9-930ef4a25840"
      },
      "execution_count": 25,
      "outputs": [
        {
          "output_type": "stream",
          "name": "stdout",
          "text": [
            "100\n",
            "20\n",
            "60\n",
            "50\n",
            "30\n",
            "58\n"
          ]
        },
        {
          "output_type": "execute_result",
          "data": {
            "text/plain": []
          },
          "metadata": {},
          "execution_count": 25
        }
      ]
    },
    {
      "cell_type": "code",
      "source": [
        "%%writefile mean.cpp\n",
        "\n",
        "#include <iostream>\n",
        "#include <vector>\n",
        "#include <sstream>\n",
        "\n",
        "int main() {\n",
        "    std::string input;\n",
        "    int score = 0;\n",
        "\n",
        "    for (int i = 0; i < 5; i++) {\n",
        "        std::cout << \"숫자를 입력하세요: \";\n",
        "        std::getline(std::cin, input);\n",
        "\n",
        "        // 입력받은 문자열을 정수로 변환\n",
        "        int num;\n",
        "        std::istringstream iss(input);\n",
        "        iss >> num;\n",
        "\n",
        "        // 변환된 숫자를 기반으로 점수 계산\n",
        "        if (num < 40) {\n",
        "            score += 40;\n",
        "        } else {\n",
        "            score += num;\n",
        "        }\n",
        "    }\n",
        "\n",
        "    // 평균 점수 출력\n",
        "    printf(\"%d\\n\", score / 5);\n",
        "\n",
        "    return 0;\n",
        "}\n"
      ],
      "metadata": {
        "colab": {
          "base_uri": "https://localhost:8080/"
        },
        "id": "JFK7AgvEAm9s",
        "outputId": "3b163fba-4e1c-4017-8cb1-2eedca050ea6"
      },
      "execution_count": 26,
      "outputs": [
        {
          "output_type": "stream",
          "name": "stdout",
          "text": [
            "Overwriting mean.cpp\n"
          ]
        }
      ]
    },
    {
      "cell_type": "code",
      "source": [
        "%%shell\n",
        "g++ mean.cpp\n",
        "./a.out"
      ],
      "metadata": {
        "colab": {
          "base_uri": "https://localhost:8080/"
        },
        "id": "bsXHYKiJBX5S",
        "outputId": "57fdafb1-1518-4a6f-c364-576274dd0dfb"
      },
      "execution_count": 27,
      "outputs": [
        {
          "output_type": "stream",
          "name": "stdout",
          "text": [
            "숫자를 입력하세요: 90\n",
            "숫자를 입력하세요: 30\n",
            "숫자를 입력하세요: 20\n",
            "숫자를 입력하세요: 60\n",
            "숫자를 입력하세요: 50\n",
            "56\n"
          ]
        },
        {
          "output_type": "execute_result",
          "data": {
            "text/plain": []
          },
          "metadata": {},
          "execution_count": 27
        }
      ]
    },
    {
      "cell_type": "code",
      "source": [
        "sum([1,2,3,4,5])"
      ],
      "metadata": {
        "colab": {
          "base_uri": "https://localhost:8080/"
        },
        "id": "3DActAXeBZAh",
        "outputId": "7f54034f-59bf-4aa5-bd7e-727986af635f"
      },
      "execution_count": 28,
      "outputs": [
        {
          "output_type": "execute_result",
          "data": {
            "text/plain": [
              "15"
            ]
          },
          "metadata": {},
          "execution_count": 28
        }
      ]
    },
    {
      "cell_type": "code",
      "source": [],
      "metadata": {
        "id": "vuvgADWNC8kI"
      },
      "execution_count": null,
      "outputs": []
    }
  ]
}