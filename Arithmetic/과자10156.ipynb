{
  "nbformat": 4,
  "nbformat_minor": 0,
  "metadata": {
    "colab": {
      "provenance": []
    },
    "kernelspec": {
      "name": "python3",
      "display_name": "Python 3"
    },
    "language_info": {
      "name": "python"
    }
  },
  "cells": [
    {
      "cell_type": "markdown",
      "source": [
        "# [과자 10156](https://www.acmicpc.net/problem/10156)"
      ],
      "metadata": {
        "id": "Dg5nMSB4D6WE"
      }
    },
    {
      "cell_type": "code",
      "source": [
        "1 ≤ K, N ≤ 1,000,\n",
        "1 ≤ M ≤ 100,000\n",
        "300 4 1000\n",
        "과자 한 개의 가격 K\n",
        "사려고 하는 과자의 개수 N\n",
        "가진 돈 M\n",
        "return\n",
        "# 부모님께 받아야 하는 돈의 액수"
      ],
      "metadata": {
        "id": "j6XZ8ii0D_dS"
      },
      "execution_count": null,
      "outputs": []
    },
    {
      "cell_type": "code",
      "source": [
        "%%writefile pay.cpp\n",
        "\n",
        "#include <iostream>\n",
        "using namespace std;\n",
        "\n",
        "int main()\n",
        "{\n",
        "    int k, n, m, need;\n",
        "    scanf(\"%d%d%d\", &k,&n,&m);\n",
        "    need = (k * n) - m;\n",
        "    if (need >= 0)\n",
        "    {\n",
        "        printf(\"%d\", need);\n",
        "    } else\n",
        "    cout << 0;\n",
        "\n",
        "    return 0;\n",
        "}"
      ],
      "metadata": {
        "colab": {
          "base_uri": "https://localhost:8080/"
        },
        "id": "0pzvtglbETnx",
        "outputId": "5cef428e-b06e-4e75-88d0-e67122763c4e"
      },
      "execution_count": 3,
      "outputs": [
        {
          "output_type": "stream",
          "name": "stdout",
          "text": [
            "Overwriting pay.cpp\n"
          ]
        }
      ]
    },
    {
      "cell_type": "code",
      "source": [
        "%%shell\n",
        "g++ pay.cpp\n",
        "./a.out"
      ],
      "metadata": {
        "colab": {
          "base_uri": "https://localhost:8080/"
        },
        "id": "C8IJlTWfFQ_T",
        "outputId": "1bd139e6-766d-4af0-8a6f-76061098b707"
      },
      "execution_count": 6,
      "outputs": [
        {
          "output_type": "stream",
          "name": "stdout",
          "text": [
            "300 4 1000\n",
            "200"
          ]
        },
        {
          "output_type": "execute_result",
          "data": {
            "text/plain": []
          },
          "metadata": {},
          "execution_count": 6
        }
      ]
    },
    {
      "cell_type": "markdown",
      "source": [
        "---\n",
        "---"
      ],
      "metadata": {
        "id": "T1XecpJ5FTXz"
      }
    },
    {
      "cell_type": "code",
      "source": [
        "#include<stdio.h>\n",
        "int a,b,c;\n",
        "int main(){\n",
        "\tscanf(\"%d%d%d\",&a,&b,&c);\n",
        "\tprintf(\"%d\",a*b-c>0? a*b-c :0);\n",
        "}"
      ],
      "metadata": {
        "id": "lelP85qBFu83"
      },
      "execution_count": null,
      "outputs": []
    }
  ]
}