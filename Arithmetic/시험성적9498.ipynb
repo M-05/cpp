{
  "nbformat": 4,
  "nbformat_minor": 0,
  "metadata": {
    "colab": {
      "provenance": []
    },
    "kernelspec": {
      "name": "python3",
      "display_name": "Python 3"
    },
    "language_info": {
      "name": "python"
    }
  },
  "cells": [
    {
      "cell_type": "markdown",
      "source": [
        "# [시험성적 9498](https://www.acmicpc.net/problem/9498)"
      ],
      "metadata": {
        "id": "t0QlY49E8-LZ"
      }
    },
    {
      "cell_type": "code",
      "execution_count": 17,
      "metadata": {
        "colab": {
          "base_uri": "https://localhost:8080/"
        },
        "id": "udl-3IcY6mOP",
        "outputId": "6ea737e2-cf8e-4f2a-a4b7-4d3dccf202a3"
      },
      "outputs": [
        {
          "output_type": "stream",
          "name": "stdout",
          "text": [
            "Overwriting ascii.cpp\n"
          ]
        }
      ],
      "source": [
        "%%writefile ascii.cpp\n",
        "#include <iostream>\n",
        "using namespace std;\n",
        "\n",
        "int main(){\n",
        "    int score;\n",
        "    cin >> score;\n",
        "    printf(\"%c\", (score>=90?'A':(\n",
        "                score>=80?'B':\n",
        "                score>=70?'C':\n",
        "                score>=60?'D':\n",
        "                'F')));\n",
        "\n",
        "    return 0;\n",
        "}"
      ]
    },
    {
      "cell_type": "code",
      "source": [
        "%%shell\n",
        "g++ ascii.cpp\n",
        "./a.out"
      ],
      "metadata": {
        "colab": {
          "base_uri": "https://localhost:8080/"
        },
        "id": "zCb_7tDN8SAG",
        "outputId": "04ee7626-c286-4bba-c22c-6a2bbd7cfe79"
      },
      "execution_count": 18,
      "outputs": [
        {
          "output_type": "stream",
          "name": "stdout",
          "text": [
            "61\n",
            "D"
          ]
        },
        {
          "output_type": "execute_result",
          "data": {
            "text/plain": []
          },
          "metadata": {},
          "execution_count": 18
        }
      ]
    },
    {
      "cell_type": "code",
      "source": [
        "%%writefile ascii.cpp\n",
        "#include <iostream>\n",
        "using namespace std;\n",
        "\n",
        "int main(){\n",
        "    int score;\n",
        "    cin >> score;\n",
        "    cout << (score >=90? 'A':\n",
        "            score >=80? 'B':\n",
        "            score >=70? 'C':\n",
        "            score >=60? 'D':\n",
        "            'F');\n",
        "\n",
        "    return 0;\n",
        "}"
      ],
      "metadata": {
        "colab": {
          "base_uri": "https://localhost:8080/"
        },
        "id": "Ksn6GTZX8VTb",
        "outputId": "d9e5e89d-d61a-4f34-93a5-2d2d34f42225"
      },
      "execution_count": 23,
      "outputs": [
        {
          "output_type": "stream",
          "name": "stdout",
          "text": [
            "Overwriting ascii.cpp\n"
          ]
        }
      ]
    },
    {
      "cell_type": "code",
      "source": [
        "%%shell\n",
        "g++ ascii.cpp\n",
        "./a.out"
      ],
      "metadata": {
        "colab": {
          "base_uri": "https://localhost:8080/"
        },
        "id": "u8spHfTx_aY-",
        "outputId": "b6c80dd9-4f02-4138-e1de-a0e734d36d4a"
      },
      "execution_count": 24,
      "outputs": [
        {
          "output_type": "stream",
          "name": "stdout",
          "text": [
            "99\n",
            "A"
          ]
        },
        {
          "output_type": "execute_result",
          "data": {
            "text/plain": []
          },
          "metadata": {},
          "execution_count": 24
        }
      ]
    },
    {
      "cell_type": "code",
      "source": [],
      "metadata": {
        "id": "mXW_3J3r_bUX"
      },
      "execution_count": null,
      "outputs": []
    }
  ]
}