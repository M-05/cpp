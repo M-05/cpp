{
  "nbformat": 4,
  "nbformat_minor": 0,
  "metadata": {
    "colab": {
      "provenance": []
    },
    "kernelspec": {
      "name": "python3",
      "display_name": "Python 3"
    },
    "language_info": {
      "name": "python"
    }
  },
  "cells": [
    {
      "cell_type": "markdown",
      "source": [
        "#[오늘 날짜 10699](https://www.acmicpc.net/problem/10699)"
      ],
      "metadata": {
        "id": "zp_xH5nBt_kk"
      }
    },
    {
      "cell_type": "code",
      "source": [
        "# https://coding-factory.tistory.com/668"
      ],
      "metadata": {
        "id": "GgIrY-azvuxu"
      },
      "execution_count": null,
      "outputs": []
    },
    {
      "cell_type": "code",
      "source": [
        "struct tm {\n",
        "   int tm_sec;         // 초,  range 0 to 59\n",
        "   int tm_min;         // 분, range 0 to 59\n",
        "   int tm_hour;        // 시간, range 0 to 23\n",
        "   int tm_mday;        // 일, range 1 to 31\n",
        "   int tm_mon;         // 월, range 0 to 11\n",
        "   int tm_year;        // 1900년 부터의 년\n",
        "   int tm_wday;        // 요일, range 일(0) to 토(6)\n",
        "   int tm_yday;        // 1년 중 경과 일, range 0 to 365\n",
        "   int tm_isdst;       // 섬머타임 실시 여부 (양수, 0, 음수)\n",
        "};\n"
      ],
      "metadata": {
        "id": "95EkiMiN4Rdi"
      },
      "execution_count": null,
      "outputs": []
    },
    {
      "cell_type": "code",
      "execution_count": 68,
      "metadata": {
        "colab": {
          "base_uri": "https://localhost:8080/"
        },
        "id": "4WgWmhwytvcx",
        "outputId": "19968615-8c09-4423-d542-9ad4ba9938d5"
      },
      "outputs": [
        {
          "output_type": "stream",
          "name": "stdout",
          "text": [
            "Overwriting time.cpp\n"
          ]
        }
      ],
      "source": [
        "%%writefile time.cpp\n",
        "#include <iostream>\n",
        "#include <ctime>\n",
        "using namespace std;\n",
        "\n",
        "int main(){\n",
        "    time_t timer= time(NULL); // 1705282925\n",
        "    struct tm* t= localtime(&timer);   // 0x79b118bf66a0\n",
        "\n",
        "//    timer = time(NULL);\n",
        "//    t = localtime(&timer);\n",
        "\n",
        "//    cout << t -> tm_year +1900 << endl;\n",
        "    printf(\"%d-%02d-%02d\\n\", t->tm_year +1900, t->tm_mon +1, t->tm_mday);\n",
        "\n",
        "    return 0;\n",
        "}"
      ]
    },
    {
      "cell_type": "code",
      "source": [
        "%%shell\n",
        "g++ time.cpp\n",
        "./a.out"
      ],
      "metadata": {
        "colab": {
          "base_uri": "https://localhost:8080/"
        },
        "id": "9bm9fHl1u6Ge",
        "outputId": "8984318e-07e7-4cd5-d8d5-5d73a8c1b5aa"
      },
      "execution_count": 69,
      "outputs": [
        {
          "output_type": "stream",
          "name": "stdout",
          "text": [
            "2024-01-15\n"
          ]
        },
        {
          "output_type": "execute_result",
          "data": {
            "text/plain": []
          },
          "metadata": {},
          "execution_count": 69
        }
      ]
    },
    {
      "cell_type": "markdown",
      "source": [
        "---\n",
        "---"
      ],
      "metadata": {
        "id": "MPCetd643qWL"
      }
    },
    {
      "cell_type": "code",
      "source": [
        "#include <stdio.h>\n",
        "int main(){printf(\"2023-10-11\");}"
      ],
      "metadata": {
        "id": "d1rQCZJO5vFM"
      },
      "execution_count": null,
      "outputs": []
    }
  ]
}