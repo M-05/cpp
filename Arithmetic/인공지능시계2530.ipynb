{
  "nbformat": 4,
  "nbformat_minor": 0,
  "metadata": {
    "colab": {
      "provenance": []
    },
    "kernelspec": {
      "name": "python3",
      "display_name": "Python 3"
    },
    "language_info": {
      "name": "python"
    }
  },
  "cells": [
    {
      "cell_type": "markdown",
      "source": [
        "# [인공지능 시계 2530](https://www.acmicpc.net/problem/2530)"
      ],
      "metadata": {
        "id": "laPHlAIrynad"
      }
    },
    {
      "cell_type": "code",
      "execution_count": 29,
      "metadata": {
        "id": "lPHRHuHyfii_"
      },
      "outputs": [],
      "source": [
        "h, m, s = 17, 40, 45\n",
        "sec = 6015"
      ]
    },
    {
      "cell_type": "code",
      "source": [
        "now = (h * 3600 )+ (m * 60) + s\n",
        "next = now + sec"
      ],
      "metadata": {
        "id": "EXzKtAcTfre8"
      },
      "execution_count": 30,
      "outputs": []
    },
    {
      "cell_type": "code",
      "source": [
        "next"
      ],
      "metadata": {
        "colab": {
          "base_uri": "https://localhost:8080/"
        },
        "id": "QeL2EoFffy13",
        "outputId": "07b6be05-a7d1-4180-f4fa-be7320cf0cb1"
      },
      "execution_count": 13,
      "outputs": [
        {
          "output_type": "execute_result",
          "data": {
            "text/plain": [
              "69660"
            ]
          },
          "metadata": {},
          "execution_count": 13
        }
      ]
    },
    {
      "cell_type": "code",
      "source": [
        "69660 % 19"
      ],
      "metadata": {
        "colab": {
          "base_uri": "https://localhost:8080/"
        },
        "id": "FrPycc4yu1XW",
        "outputId": "d3c7874d-64ad-411f-b0b6-719c719083e9"
      },
      "execution_count": 65,
      "outputs": [
        {
          "output_type": "execute_result",
          "data": {
            "text/plain": [
              "6"
            ]
          },
          "metadata": {},
          "execution_count": 65
        }
      ]
    },
    {
      "cell_type": "code",
      "source": [
        "hour = next // 3600\n",
        "next -= (3600 * hour)\n",
        "minute = next // 60\n",
        "next -= (60 * minute)\n",
        "second = next"
      ],
      "metadata": {
        "id": "RHUvDl67f3h4"
      },
      "execution_count": 31,
      "outputs": []
    },
    {
      "cell_type": "code",
      "source": [
        "hour, minute, second"
      ],
      "metadata": {
        "colab": {
          "base_uri": "https://localhost:8080/"
        },
        "id": "yC2uYAKHhoKB",
        "outputId": "be263d93-11e4-47c7-fd2d-920196895e64"
      },
      "execution_count": 32,
      "outputs": [
        {
          "output_type": "execute_result",
          "data": {
            "text/plain": [
              "(19, 21, 0)"
            ]
          },
          "metadata": {},
          "execution_count": 32
        }
      ]
    },
    {
      "cell_type": "code",
      "source": [
        "print(hour, minute, second)"
      ],
      "metadata": {
        "colab": {
          "base_uri": "https://localhost:8080/"
        },
        "id": "TTkWbDwOhcRl",
        "outputId": "a7ffdfe6-5f4e-416d-b724-073144b508d3"
      },
      "execution_count": 33,
      "outputs": [
        {
          "output_type": "stream",
          "name": "stdout",
          "text": [
            "19 21 0\n"
          ]
        }
      ]
    },
    {
      "cell_type": "code",
      "source": [
        "%%writefile time.cpp\n",
        "#include <iostream>\n",
        "using namespace std;\n",
        "\n",
        "int main(){\n",
        "    int h, m, s, sec;\n",
        "    int now, next, hour, minute, second;\n",
        "\n",
        "    scanf(\"%d%d%d\", &h,&m,&s);\n",
        "    cin >> sec;\n",
        "\n",
        "    now = (h * 3600 )+ (m * 60) + s;\n",
        "    next = now + sec;\n",
        "    hour = (next / 3600);\n",
        "    next -= (3600 * hour);\n",
        "    minute = next / 60;\n",
        "    next -= (60 * minute);\n",
        "    second = next;\n",
        "\n",
        "    printf(\"%d %d %d\", (hour>=24? hour% 24: hour), minute, second);\n",
        "    return 0;\n",
        "\n",
        "}"
      ],
      "metadata": {
        "colab": {
          "base_uri": "https://localhost:8080/"
        },
        "id": "cCO-XoZ8h_hH",
        "outputId": "29d8801a-1ffd-433f-8f35-73944433c2ef"
      },
      "execution_count": 66,
      "outputs": [
        {
          "output_type": "stream",
          "name": "stdout",
          "text": [
            "Overwriting time.cpp\n"
          ]
        }
      ]
    },
    {
      "cell_type": "code",
      "source": [
        "%%shell\n",
        "g++ time.cpp\n",
        "./a.out"
      ],
      "metadata": {
        "colab": {
          "base_uri": "https://localhost:8080/"
        },
        "id": "R4NomC5si_wu",
        "outputId": "680b6594-d365-44bf-a9f6-7fe05dec2795"
      },
      "execution_count": 67,
      "outputs": [
        {
          "output_type": "stream",
          "name": "stdout",
          "text": [
            "23 59 59\n",
            "1\n",
            "0 0 0"
          ]
        },
        {
          "output_type": "execute_result",
          "data": {
            "text/plain": []
          },
          "metadata": {},
          "execution_count": 67
        }
      ]
    },
    {
      "cell_type": "code",
      "source": [
        "%%shell\n",
        "g++ time.cpp\n",
        "./a.out"
      ],
      "metadata": {
        "colab": {
          "base_uri": "https://localhost:8080/"
        },
        "id": "xYpwDHPJjDyb",
        "outputId": "34b2220e-e4f3-4433-c250-d5b5a93ff68f"
      },
      "execution_count": 57,
      "outputs": [
        {
          "output_type": "stream",
          "name": "stdout",
          "text": [
            "23 59 59\n",
            "500000\n",
            "6 53 19"
          ]
        },
        {
          "output_type": "execute_result",
          "data": {
            "text/plain": []
          },
          "metadata": {},
          "execution_count": 57
        }
      ]
    },
    {
      "cell_type": "markdown",
      "source": [
        "---"
      ],
      "metadata": {
        "id": "5tAKmuwQyeRG"
      }
    },
    {
      "cell_type": "code",
      "source": [
        "#include <iostream>\n",
        "using namespace std;\n",
        "int main(){\n",
        "    int h, m, s, d;\n",
        "    cin>>h>>m>>s>>d;\n",
        "    cout<<(h+(m+(s+d)/60)/60)%24<<\" \"<<(m+(s+d)/60)%60<<\" \"<<(s+d)%60;\n",
        "    return 0;\n",
        "}"
      ],
      "metadata": {
        "id": "AFBGbYQdyfTS"
      },
      "execution_count": null,
      "outputs": []
    }
  ]
}