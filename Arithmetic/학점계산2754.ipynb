{
  "nbformat": 4,
  "nbformat_minor": 0,
  "metadata": {
    "colab": {
      "provenance": []
    },
    "kernelspec": {
      "name": "python3",
      "display_name": "Python 3"
    },
    "language_info": {
      "name": "python"
    }
  },
  "cells": [
    {
      "cell_type": "markdown",
      "source": [
        "#[학점계산 2754](https://www.acmicpc.net/problem/2754)"
      ],
      "metadata": {
        "id": "xmPBgNlTmxEp"
      }
    },
    {
      "cell_type": "code",
      "execution_count": 26,
      "metadata": {
        "colab": {
          "base_uri": "https://localhost:8080/"
        },
        "id": "Navjefs6gQzL",
        "outputId": "b892eae2-8026-4a5b-bfcc-96238ae3ce9e"
      },
      "outputs": [
        {
          "output_type": "stream",
          "name": "stdout",
          "text": [
            "Overwriting score.cpp\n"
          ]
        }
      ],
      "source": [
        "%%writefile score.cpp\n",
        "#include <iostream>\n",
        "#include <string>\n",
        "using namespace std;\n",
        "\n",
        "int main()\n",
        "{\n",
        "    string(input);\n",
        "    float score;\n",
        "    getline(cin, input);\n",
        "    if(input[0] == 'A'){\n",
        "        score = 4.0;\n",
        "    }else if(input[0] =='B'){\n",
        "        score = 3.0;\n",
        "    }else if(input[0]=='C'){\n",
        "        score = 2.0;\n",
        "    }else if(input[0]=='D'){\n",
        "        score = 1.0;\n",
        "    }else{\n",
        "        score = 0.0;\n",
        "    }\n",
        "//    if(input[1] =='+'){\n",
        "//        printf(\"%.1f\", score +0.3);\n",
        "//    }else if(input[1]=='-'){\n",
        "//        printf(\"%.1f\", score -0.3 );\n",
        "//    }else{\n",
        "//        printf(\"%.1f\", score);\n",
        "//    }\n",
        "    printf(\"%.1f\", (input[1]=='+'? score +0.3:(\n",
        "        input[1]=='-'? score -0.3:(\n",
        "            score\n",
        "        )\n",
        "    )));\n",
        "\n",
        "    return 0;\n",
        "}"
      ]
    },
    {
      "cell_type": "code",
      "source": [
        "%%shell\n",
        "g++ score.cpp -o bout\n",
        "./bout"
      ],
      "metadata": {
        "colab": {
          "base_uri": "https://localhost:8080/"
        },
        "id": "q11dR16EhaAV",
        "outputId": "d41502c0-109b-43ab-a3fa-20bae7968ce4"
      },
      "execution_count": 27,
      "outputs": [
        {
          "output_type": "stream",
          "name": "stdout",
          "text": [
            "F\n",
            "0.0"
          ]
        },
        {
          "output_type": "execute_result",
          "data": {
            "text/plain": []
          },
          "metadata": {},
          "execution_count": 27
        }
      ]
    },
    {
      "cell_type": "code",
      "source": [],
      "metadata": {
        "id": "WGfhsqHWin-q"
      },
      "execution_count": 10,
      "outputs": []
    },
    {
      "cell_type": "code",
      "source": [],
      "metadata": {
        "id": "gsjgh_GaioBN"
      },
      "execution_count": null,
      "outputs": []
    },
    {
      "cell_type": "code",
      "source": [],
      "metadata": {
        "id": "SkSDnBykioDB"
      },
      "execution_count": null,
      "outputs": []
    }
  ]
}