{
  "nbformat": 4,
  "nbformat_minor": 0,
  "metadata": {
    "colab": {
      "provenance": []
    },
    "kernelspec": {
      "name": "python3",
      "display_name": "Python 3"
    },
    "language_info": {
      "name": "python"
    }
  },
  "cells": [
    {
      "cell_type": "markdown",
      "source": [
        "# [주사위 세개 2480](https://www.acmicpc.net/problem/2480)"
      ],
      "metadata": {
        "id": "EP23kH-PXPGz"
      }
    },
    {
      "cell_type": "code",
      "source": [
        "# 같은 눈이 3개가 나오면 10,000원+(같은 눈)×1,000원의 상금\n",
        " a == b == c\n",
        "# 같은 눈이 2개만 나오는 경우에는 1,000원+(같은 눈)×100원의 상금\n",
        " a == b or a == c or b == c\n",
        "# 모두 다른 눈이 나오는 경우에는 (그 중 가장 큰 눈)×100원의 상금\n",
        " a != b != c"
      ],
      "metadata": {
        "id": "RB64rJeKXmZF"
      },
      "execution_count": null,
      "outputs": []
    },
    {
      "cell_type": "code",
      "source": [
        "a, b, c = map(int, input().split())"
      ],
      "metadata": {
        "colab": {
          "base_uri": "https://localhost:8080/"
        },
        "id": "fZe1m0JPY3DD",
        "outputId": "556a08f6-3a62-425d-defb-a11ddb69aada"
      },
      "execution_count": 5,
      "outputs": [
        {
          "name": "stdout",
          "output_type": "stream",
          "text": [
            "3 3 6\n"
          ]
        }
      ]
    },
    {
      "cell_type": "code",
      "source": [
        "a != b != c"
      ],
      "metadata": {
        "colab": {
          "base_uri": "https://localhost:8080/"
        },
        "id": "j6D5Y9oLY9SO",
        "outputId": "b6763398-8856-4d00-d398-da37b219328d"
      },
      "execution_count": 7,
      "outputs": [
        {
          "output_type": "execute_result",
          "data": {
            "text/plain": [
              "False"
            ]
          },
          "metadata": {},
          "execution_count": 7
        }
      ]
    },
    {
      "cell_type": "code",
      "source": [
        "a == b != c"
      ],
      "metadata": {
        "colab": {
          "base_uri": "https://localhost:8080/"
        },
        "id": "mn3eEwFSZ-_E",
        "outputId": "fe198341-71ee-4c5e-d018-b21925ee60c3"
      },
      "execution_count": 8,
      "outputs": [
        {
          "output_type": "execute_result",
          "data": {
            "text/plain": [
              "True"
            ]
          },
          "metadata": {},
          "execution_count": 8
        }
      ]
    },
    {
      "cell_type": "code",
      "source": [
        "a != b == c"
      ],
      "metadata": {
        "colab": {
          "base_uri": "https://localhost:8080/"
        },
        "id": "s2YqGu0IY_f_",
        "outputId": "0824e027-56c6-40fe-e3a5-a30814f95f4e"
      },
      "execution_count": 6,
      "outputs": [
        {
          "output_type": "execute_result",
          "data": {
            "text/plain": [
              "False"
            ]
          },
          "metadata": {},
          "execution_count": 6
        }
      ]
    },
    {
      "cell_type": "code",
      "source": [
        "max(a, b, c)"
      ],
      "metadata": {
        "colab": {
          "base_uri": "https://localhost:8080/"
        },
        "id": "1OunHfcfZhy6",
        "outputId": "a020c82a-a541-416e-bda0-fca51f3e246a"
      },
      "execution_count": 4,
      "outputs": [
        {
          "output_type": "execute_result",
          "data": {
            "text/plain": [
              "6"
            ]
          },
          "metadata": {},
          "execution_count": 4
        }
      ]
    },
    {
      "cell_type": "code",
      "source": [
        "# https://cplusplus.com/reference/algorithm/max/"
      ],
      "metadata": {
        "id": "yqaygjomX_zn"
      },
      "execution_count": null,
      "outputs": []
    },
    {
      "cell_type": "code",
      "source": [
        "%%writefile dice.cpp\n",
        "#include <iostream>\n",
        "using namespace std;\n",
        "\n",
        "int main()\n",
        "{\n",
        "    int a, b, c;\n",
        "    cin >> a >> b >> c;\n",
        "\n",
        "    if (a == b && b == c && a == c) // NO a == b == c\n",
        "    {\n",
        "        cout << 10000 + (a * 1000) << endl;\n",
        "    } else if(a != b && b != c && a != c) // NO a != b != c\n",
        "    {\n",
        "        printf(\"%d\\n\", max(max(a, b), c) * 100); // NO max(a, b, c)\n",
        "    } else\n",
        "    {\n",
        "        if (a == b)\n",
        "        {\n",
        "            printf(\"%d\\n\", 1000 + (a * 100));\n",
        "        }else if (b == c)\n",
        "        {\n",
        "            printf(\"%d\\n\", 1000 + (b * 100));\n",
        "        }else\n",
        "        {\n",
        "            printf(\"%d\\n\", 1000 + (a * 100));\n",
        "        }\n",
        "\n",
        "    }\n",
        "\n",
        "    return 0;\n",
        "}"
      ],
      "metadata": {
        "colab": {
          "base_uri": "https://localhost:8080/"
        },
        "id": "SI2yTUf0XZSy",
        "outputId": "90435f17-0ae6-4d28-cb41-5f16aabeb2a0"
      },
      "execution_count": 13,
      "outputs": [
        {
          "output_type": "stream",
          "name": "stdout",
          "text": [
            "Overwriting dice.cpp\n"
          ]
        }
      ]
    },
    {
      "cell_type": "code",
      "source": [
        "%%shell\n",
        "g++ dice.cpp\n",
        "./a.out"
      ],
      "metadata": {
        "colab": {
          "base_uri": "https://localhost:8080/"
        },
        "id": "EpnZib7rbZtb",
        "outputId": "794d2f1c-b617-4616-d38f-7cd978c72488"
      },
      "execution_count": 16,
      "outputs": [
        {
          "output_type": "stream",
          "name": "stdout",
          "text": [
            "6 2 5\n",
            "600\n"
          ]
        },
        {
          "output_type": "execute_result",
          "data": {
            "text/plain": []
          },
          "metadata": {},
          "execution_count": 16
        }
      ]
    },
    {
      "cell_type": "markdown",
      "source": [
        "---\n",
        "---"
      ],
      "metadata": {
        "id": "FlN5AXe3bcyx"
      }
    },
    {
      "cell_type": "code",
      "source": [
        "#include <stdio.h>\n",
        "\n",
        "int main(){\n",
        "    int a, b, c;\n",
        "    scanf(\"%d\"\"%d\"\"%d\", &a, &b, &c);\n",
        "    printf(\"%d\",(a==b&&a==c?100+a*10:\n",
        "                 a==b||a==c?10+a:\n",
        "                 b==c?10+b:\n",
        "                 a>b&&a>c?a:\n",
        "                 b>c?b:c)\n",
        "                *100);\n",
        "}"
      ],
      "metadata": {
        "id": "fW7P6nbY59wU"
      },
      "execution_count": null,
      "outputs": []
    },
    {
      "cell_type": "code",
      "source": [
        "#include <cstdio>\n",
        "int a, b, c, r;\n",
        "int main(){\n",
        "\tscanf(\"%d %d %d\", &a, &b, &c);\n",
        "\tif(a==b && b==c) r=10000+a*1000;\n",
        "\telse{\n",
        "\t\tif(a==b || a==c) r=1000+a*100;\n",
        "\t\telse if(b==c) r=1000+b*100;\n",
        "\t\telse{\n",
        "\t\t\tb=b>c?b:c; a=a>b?a:b;\n",
        "\t\t\tr=a*100;\n",
        "\t\t}\n",
        "\t}\n",
        "\tprintf(\"%d\", r);\n",
        "}"
      ],
      "metadata": {
        "id": "c3Oentpa6eja"
      },
      "execution_count": null,
      "outputs": []
    }
  ]
}