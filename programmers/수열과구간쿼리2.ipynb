{
  "nbformat": 4,
  "nbformat_minor": 0,
  "metadata": {
    "colab": {
      "provenance": []
    },
    "kernelspec": {
      "name": "python3",
      "display_name": "Python 3"
    },
    "language_info": {
      "name": "python"
    }
  },
  "cells": [
    {
      "cell_type": "markdown",
      "source": [
        "# [수열과 구간 쿼리 2](https://school.programmers.co.kr/learn/courses/30/lessons/181923)"
      ],
      "metadata": {
        "id": "rexeMr-Nu9KN"
      }
    },
    {
      "cell_type": "code",
      "source": [
        "#include <string>\n",
        "#include <vector>\n",
        "#include <algorithm>\n",
        "#include <iostream>\n",
        "#include <limits>\n",
        "\n",
        "using namespace std;\n",
        "\n",
        "vector<int> solution(vector<int> arr, vector<vector<int>> queries) {\n",
        "    vector<int> answer;\n",
        "    for(int i=0; i<queries.size(); ++i)\n",
        "    {\n",
        "        // int temp = 1e6;\n",
        "        // int temp = 1000000;\n",
        "        int temp = numeric_limits<int>::max();\n",
        "        for(int j=queries[i][0]; j<=queries[i][1]; ++j)\n",
        "        {\n",
        "            // cout << queries[i][0] << \" \" << queries[i][1] << \" \";\n",
        "            // cout << queries[i][2] << \" \" << arr[j] << '\\n';\n",
        "            if(queries[i][2] < arr[j])\n",
        "            {\n",
        "                temp = min(temp, arr[j]);\n",
        "            }\n",
        "        }\n",
        "        if(temp != numeric_limits<int>::max())\n",
        "        {\n",
        "            answer.emplace_back(temp);\n",
        "        }\n",
        "        else\n",
        "        {\n",
        "            answer.emplace_back(-1);\n",
        "        }\n",
        "\n",
        "    }\n",
        "\n",
        "\n",
        "\n",
        "    return answer;\n",
        "}"
      ],
      "metadata": {
        "id": "DDfht4yJu9MX"
      },
      "execution_count": null,
      "outputs": []
    }
  ]
}