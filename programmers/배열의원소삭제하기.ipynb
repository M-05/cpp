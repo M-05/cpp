{
  "nbformat": 4,
  "nbformat_minor": 0,
  "metadata": {
    "colab": {
      "provenance": []
    },
    "kernelspec": {
      "name": "python3",
      "display_name": "Python 3"
    },
    "language_info": {
      "name": "python"
    }
  },
  "cells": [
    {
      "cell_type": "markdown",
      "source": [
        "# [배열의 원소 삭제하기](https://school.programmers.co.kr/learn/courses/30/lessons/181844)"
      ],
      "metadata": {
        "id": "gt3WrIQJg-NM"
      }
    },
    {
      "cell_type": "code",
      "source": [
        "벡터 v의 시작 주소는 v.begin()이다. i번째 원소의 주소는 v.begin() + i\n",
        "v.erase(v.begin() + i);"
      ],
      "metadata": {
        "id": "u3qdk5c4h_o0"
      },
      "execution_count": null,
      "outputs": []
    },
    {
      "cell_type": "code",
      "execution_count": null,
      "metadata": {
        "id": "81JYOTw4g6H8"
      },
      "outputs": [],
      "source": [
        "#include <string>\n",
        "#include <vector>\n",
        "#include <algorithm>\n",
        "// #include <iostream>\n",
        "using namespace std;\n",
        "\n",
        "vector<int> solution(vector<int> arr, vector<int> delete_list) {\n",
        "    int idx;\n",
        "    for(auto num : delete_list){\n",
        "        if (find(arr.begin(), arr.end(), num) != arr.end()) // 값이 존재한다.\n",
        "            {// 인덱스 값 알려줘.\n",
        "            idx = find(arr.begin(), arr.end(), num) - arr.begin();\n",
        "            // 해당 인덱스 값 삭제해줘.\n",
        "            arr.erase(arr.begin() + idx);\n",
        "            // cout << idx << \" : \" << arr[idx] << \"\\n\";\n",
        "            // \t4 : 94 1 : 1000\n",
        "            }\n",
        "\t}\n",
        "    return arr;\n",
        "}"
      ]
    },
    {
      "cell_type": "markdown",
      "source": [
        "---"
      ],
      "metadata": {
        "id": "DDrqK5EfmGxS"
      }
    },
    {
      "cell_type": "code",
      "source": [
        "#include <algorithm>\n",
        "#include <vector>\n",
        "using namespace std;\n",
        "\n",
        "vector<int> solution(vector<int> v, vector<int> delete_list) {\n",
        "    for (const int& i : delete_list)\n",
        "        v.erase(remove_if(v.begin(), v.end(), [i](const int& x)\n",
        "                        { return x == i; }), v.end());\n",
        "    return v;\n",
        "}"
      ],
      "metadata": {
        "id": "Kjl2U6wAmHZF"
      },
      "execution_count": null,
      "outputs": []
    },
    {
      "cell_type": "markdown",
      "source": [
        "# [O(1) 으로 삭제 방법.](https://siloam72761.tistory.com/entry/C-%EC%A0%95%EB%A0%AC%EB%90%98%EC%A7%80-%EC%95%8A%EC%9D%80-%EB%B2%A1%ED%84%B0vector-O1%EC%8B%9C%EA%B0%84%EC%9C%BC%EB%A1%9C-%EC%9A%94%EC%86%8C-%EC%82%AD%EC%A0%9C%ED%95%98%EA%B8%B0)"
      ],
      "metadata": {
        "id": "2UmlUQDMhg7Y"
      }
    },
    {
      "cell_type": "code",
      "source": [
        "#include <iostream>\n",
        "#include <vector>\n",
        "#include <algorithm>\n",
        "\n",
        "using namespace std;\n",
        "\n",
        "template <typename T>\n",
        "void quick_remove_at(vector<T>& v, size_t idx)\n",
        "{\n",
        "\tif (idx < v.size()) {\n",
        "\t\tv[idx] = move(v.back()); //마지막 원소를 이동\n",
        "\t\tv.pop_back();            //맨 끝 데이터 삭제\n",
        "\t}\n",
        "}\n",
        "\n",
        "int main()\n",
        "{\n",
        "\tvector<int> v{ 100,200,300,400,500 };\n",
        "\n",
        "\tquick_remove_at(v, 2); //인덱스 2번 300을 삭제\n",
        "\n",
        "\tfor (int i : v) {\n",
        "\t\tcout << i <<\", \";\n",
        "\t}\n",
        "\tcout << '\\n';\n",
        "\n",
        "}"
      ],
      "metadata": {
        "id": "zlS7fkMxhn7q"
      },
      "execution_count": null,
      "outputs": []
    },
    {
      "cell_type": "code",
      "source": [
        "Output :\n",
        "\n",
        "100, 200, 500, 400\n",
        "\n",
        "출력값이 100, 200, 400, 500으로 나오지 않은 이유는\n",
        "500을 300의 자리로 이동시켰기 때문이다."
      ],
      "metadata": {
        "id": "62_784lRhw84"
      },
      "execution_count": null,
      "outputs": []
    }
  ]
}