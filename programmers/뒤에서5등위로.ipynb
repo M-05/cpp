{
  "nbformat": 4,
  "nbformat_minor": 0,
  "metadata": {
    "colab": {
      "provenance": []
    },
    "kernelspec": {
      "name": "python3",
      "display_name": "Python 3"
    },
    "language_info": {
      "name": "python"
    }
  },
  "cells": [
    {
      "cell_type": "markdown",
      "source": [
        "# [뒤에서 5등 위로](https://school.programmers.co.kr/learn/courses/30/lessons/181852)"
      ],
      "metadata": {
        "id": "p-qdtK2A2P6u"
      }
    },
    {
      "cell_type": "code",
      "source": [
        "import random\n",
        "increase = random.sample(list(range(100)), 10)\n",
        "# decrease = random.sample(list(range(100)), 10)\n",
        "print(f'random : {increase}')\n",
        "# print(f'decrease : {decrease}')\n",
        "\n",
        "for i in range(len(increase)-1):\n",
        "    for j in range(i+1, len(increase)):\n",
        "        if increase[i] > increase[j]:\n",
        "            increase[j], increase[i] = increase[i], increase[j]\n",
        "print(increase)\n",
        "\n",
        "decrease = increase\n",
        "\n",
        "for i in range(len(decrease)-1):\n",
        "    for j in range(i+1, len(decrease)):\n",
        "        if decrease[i] < decrease[j]:\n",
        "            decrease[j], decrease[i] = decrease[i], decrease[j]\n",
        "print(decrease)"
      ],
      "metadata": {
        "colab": {
          "base_uri": "https://localhost:8080/"
        },
        "id": "Ok5U-dOq2P97",
        "outputId": "d727c5c1-4ee8-4048-b8c8-f8488fbcb4da"
      },
      "execution_count": null,
      "outputs": [
        {
          "output_type": "stream",
          "name": "stdout",
          "text": [
            "random : [32, 1, 41, 53, 83, 89, 19, 58, 99, 77]\n",
            "[1, 19, 32, 41, 53, 58, 77, 83, 89, 99]\n",
            "[99, 89, 83, 77, 58, 53, 41, 32, 19, 1]\n"
          ]
        }
      ]
    },
    {
      "cell_type": "code",
      "source": [
        "#include <string>\n",
        "#include <vector>\n",
        "#include <algorithm>\n",
        "#include <iostream>\n",
        "\n",
        "using namespace std;\n",
        "\n",
        "vector<int> increase(vector<int> num){\n",
        "    for(int i; i<num.size()-1; ++i){\n",
        "        for(int j=i; j<num.size(); ++j){\n",
        "            if(num[i] > num[j]){\n",
        "                swap(num[i], num[j]);\n",
        "            }\n",
        "        }\n",
        "    } return num;\n",
        "}\n",
        "\n",
        "\n",
        "vector<int> solution(vector<int> num_list) {\n",
        "    vector<int> answer;\n",
        "    // sort(num_list.begin(), num_list.end());\n",
        "    num_list = increase(num_list);\n",
        "\n",
        "    // for(int i; i<num_list.size(); ++i){\n",
        "    //     cout << num_list[i] << \" \";\n",
        "    // } // 1 4 10 12 14 15 32 38 46 56\n",
        "\n",
        "\n",
        "    for (int i=5; i < num_list.size(); ++i){\n",
        "        answer.push_back(num_list[i]);\n",
        "    }\n",
        "    return answer;\n",
        "}"
      ],
      "metadata": {
        "id": "EjDTBSgf4Dza"
      },
      "execution_count": null,
      "outputs": []
    },
    {
      "cell_type": "code",
      "source": [
        "include algorithm\n",
        "\n",
        "reverse(num_list.begin(), num_list.end());\n",
        "sort(num_list.begin(), num_list.end());"
      ],
      "metadata": {
        "id": "YXFUe3QB_ib1"
      },
      "execution_count": null,
      "outputs": []
    },
    {
      "cell_type": "code",
      "source": [
        "#include <string>\n",
        "#include <vector>\n",
        "#include <algorithm>\n",
        "#include <iostream>\n",
        "\n",
        "using namespace std;\n",
        "\n",
        "vector<int> solution(vector<int> num_list) {\n",
        "    vector<int> answer;\n",
        "    sort(num_list.begin(), num_list.end());\n",
        "\n",
        "    for (int i=5; i < num_list.size(); ++i){\n",
        "        answer.push_back(num_list[i]);\n",
        "    }\n",
        "    return answer;\n",
        "}"
      ],
      "metadata": {
        "id": "4aWt1O8f9TmC"
      },
      "execution_count": null,
      "outputs": []
    },
    {
      "cell_type": "code",
      "source": [
        "#include <string>\n",
        "#include <vector>\n",
        "#include <algorithm>\n",
        "\n",
        "using namespace std;\n",
        "\n",
        "vector<int> solution(vector<int> num_list) {\n",
        "    sort(num_list.begin(), num_list.end());\n",
        "    return vector<int>(num_list.begin()+5, num_list.end());\n",
        "}"
      ],
      "metadata": {
        "id": "a20Cm87Q98tw"
      },
      "execution_count": null,
      "outputs": []
    }
  ]
}