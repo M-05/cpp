{
  "nbformat": 4,
  "nbformat_minor": 0,
  "metadata": {
    "colab": {
      "provenance": []
    },
    "kernelspec": {
      "name": "python3",
      "display_name": "Python 3"
    },
    "language_info": {
      "name": "python"
    }
  },
  "cells": [
    {
      "cell_type": "markdown",
      "source": [
        "# [n 번째 원소까지](https://school.programmers.co.kr/learn/courses/30/lessons/181889)"
      ],
      "metadata": {
        "id": "LW36Mo1yByK9"
      }
    },
    {
      "cell_type": "code",
      "execution_count": null,
      "metadata": {
        "id": "ViqQmu-d-U14"
      },
      "outputs": [],
      "source": [
        "#include <vector>\n",
        "using namespace std;\n",
        "\n",
        "vector<int> soultion(vector<int> num_list, int n){\n",
        "    return vector<int> (num_list.begin(), num_list.begin() +n);\n",
        "}"
      ]
    },
    {
      "cell_type": "markdown",
      "source": [
        "# [특정한 문자를 대문자로 바꾸기](https://school.programmers.co.kr/learn/courses/30/lessons/181873)"
      ],
      "metadata": {
        "id": "pIBWIVToGMj0"
      }
    },
    {
      "cell_type": "code",
      "source": [
        "#include <string>\n",
        "\n",
        "using namespace std;\n",
        "\n",
        "string solution(string my_string, string alp) {\n",
        "    string answer = \"\";\n",
        "    // for (int i=0; i < my_string.size(); ++i){\n",
        "    //     answer += (my_string[i] == alp[0]? my_string[i] -32 : my_string[i]);}\n",
        "    for(char& ch: my_string){\n",
        "        ch == alp[0] ? ch -= 32 : ch;\n",
        "    }\n",
        "    return my_string;\n",
        "\n",
        "}"
      ],
      "metadata": {
        "id": "1PcSbT3oGMuD"
      },
      "execution_count": null,
      "outputs": []
    },
    {
      "cell_type": "code",
      "source": [
        "#include <string>\n",
        "\n",
        "using namespace std;\n",
        "\n",
        "string solution(string my_string, string alp) {\n",
        "    string answer = \"\";\n",
        "    for (int i=0; i < my_string.size(); ++i){\n",
        "        answer += (my_string[i] == alp[0]? my_string[i] -32 : my_string[i]);}\n",
        "    return answer;\n",
        "\n",
        "}"
      ],
      "metadata": {
        "id": "s7V55y-tGQvb"
      },
      "execution_count": null,
      "outputs": []
    }
  ]
}