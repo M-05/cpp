{
  "nbformat": 4,
  "nbformat_minor": 0,
  "metadata": {
    "colab": {
      "provenance": []
    },
    "kernelspec": {
      "name": "python3",
      "display_name": "Python 3"
    },
    "language_info": {
      "name": "python"
    }
  },
  "cells": [
    {
      "cell_type": "markdown",
      "source": [
        "# [문자 리스트를 문자열로 변환하기](https://school.programmers.co.kr/learn/courses/30/lessons/181941)"
      ],
      "metadata": {
        "id": "-Us-LsQl37pB"
      }
    },
    {
      "cell_type": "code",
      "source": [
        "#include <string>\n",
        "#include <vector>\n",
        "\n",
        "using namespace std;\n",
        "\n",
        "string solution(vector<string> arr) {\n",
        "    string answer = \"\";\n",
        "    for(auto ch : arr){\n",
        "        answer += ch;\n",
        "    }\n",
        "    return answer;\n",
        "}"
      ],
      "metadata": {
        "id": "iqC4yX0P3_9Y"
      },
      "execution_count": null,
      "outputs": []
    },
    {
      "cell_type": "markdown",
      "source": [
        "---"
      ],
      "metadata": {
        "id": "89Q3kHQD4BUB"
      }
    },
    {
      "cell_type": "code",
      "execution_count": null,
      "metadata": {
        "id": "tnGH20CU3xBa"
      },
      "outputs": [],
      "source": [
        "#include <string>\n",
        "#include <vector>\n",
        "#include <numeric>\n",
        "using namespace std;\n",
        "\n",
        "string solution(vector<string> arr)\n",
        "{\n",
        "    return accumulate(arr.begin(), arr.end(), string());\n",
        "}"
      ]
    },
    {
      "cell_type": "code",
      "source": [
        "#include <string>\n",
        "#include <vector>\n",
        "#include <numeric>\n",
        "using namespace std;\n",
        "\n",
        "string solution(vector<string> arr) {\n",
        "    return reduce(arr.cbegin(), arr.cend(), string{\"\"});\n",
        "}"
      ],
      "metadata": {
        "id": "E9513kHP4Pmw"
      },
      "execution_count": null,
      "outputs": []
    }
  ]
}