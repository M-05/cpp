{
  "nbformat": 4,
  "nbformat_minor": 0,
  "metadata": {
    "colab": {
      "provenance": []
    },
    "kernelspec": {
      "name": "python3",
      "display_name": "Python 3"
    },
    "language_info": {
      "name": "python"
    }
  },
  "cells": [
    {
      "cell_type": "markdown",
      "source": [
        "# [두 수의 연산값 비교하기](https://school.programmers.co.kr/learn/courses/30/lessons/181938)"
      ],
      "metadata": {
        "id": "Ufdw_6j76vZP"
      }
    },
    {
      "cell_type": "code",
      "execution_count": null,
      "metadata": {
        "id": "lcgbT9-45yfM"
      },
      "outputs": [],
      "source": [
        "#include <string>\n",
        "\n",
        "using namespace std;\n",
        "\n",
        "int solution(int a, int b) {\n",
        "    string c = to_string(a) + to_string(b);\n",
        "    int d = a * b * 2;\n",
        "    return d >= stoi(c) ? d : stoi(c);\n",
        "}"
      ]
    },
    {
      "cell_type": "markdown",
      "source": [
        "---"
      ],
      "metadata": {
        "id": "6TPsJV1C68v1"
      }
    },
    {
      "cell_type": "code",
      "source": [
        "#include <string>\n",
        "#include <vector>\n",
        "#include <algorithm>\n",
        "using namespace std;\n",
        "\n",
        "int solution(int a, int b) {\n",
        "    int answer = 0;\n",
        "    string s = to_string(a) + to_string(b);\n",
        "    answer = max(stoi(s), 2 * a * b);\n",
        "    return answer;\n",
        "}"
      ],
      "metadata": {
        "id": "IJ4dIq1g69RZ"
      },
      "execution_count": null,
      "outputs": []
    },
    {
      "cell_type": "markdown",
      "source": [
        "# [문자열의 뒤의 n글자](https://school.programmers.co.kr/learn/courses/30/lessons/181910)"
      ],
      "metadata": {
        "id": "G64pJoAj7kTd"
      }
    },
    {
      "cell_type": "code",
      "source": [
        "#include <string>\n",
        "#include <vector>\n",
        "\n",
        "using namespace std;\n",
        "\n",
        "string solution(string my_string, int n) {\n",
        "    return my_string.substr(my_string.size()-n, n);\n",
        "}"
      ],
      "metadata": {
        "id": "tTg5BQOt7kZ2"
      },
      "execution_count": null,
      "outputs": []
    },
    {
      "cell_type": "markdown",
      "source": [
        "---"
      ],
      "metadata": {
        "id": "72rv6zJZ7u65"
      }
    },
    {
      "cell_type": "code",
      "source": [
        "#include <string>\n",
        "#include <vector>\n",
        "\n",
        "using namespace std;\n",
        "\n",
        "string solution(string my_string, int n) {\n",
        "    string answer = \"\";\n",
        "    answer = my_string.substr(my_string.length() - n);\n",
        "    return answer;\n",
        "}"
      ],
      "metadata": {
        "id": "0XUzAkto7vsz"
      },
      "execution_count": null,
      "outputs": []
    },
    {
      "cell_type": "markdown",
      "source": [
        "# [ n번째 원소부터](https://school.programmers.co.kr/learn/courses/30/lessons/181892)"
      ],
      "metadata": {
        "id": "os9A7tiO8lfF"
      }
    },
    {
      "cell_type": "code",
      "source": [
        "#include <string>\n",
        "#include <vector>\n",
        "\n",
        "using namespace std;\n",
        "\n",
        "vector<int> solution(vector<int> num_list, int n) {\n",
        "    vector<int> answer;\n",
        "    for(int i= n-1; i < num_list.size(); ++i){\n",
        "        answer.push_back(num_list[i]);\n",
        "    }\n",
        "    return answer;\n",
        "}"
      ],
      "metadata": {
        "id": "ZbxJ0aqf8k5t"
      },
      "execution_count": null,
      "outputs": []
    },
    {
      "cell_type": "markdown",
      "source": [
        "---"
      ],
      "metadata": {
        "id": "C69VEI6v8vPh"
      }
    },
    {
      "cell_type": "code",
      "source": [
        "#include <string>\n",
        "#include <vector>\n",
        "\n",
        "using namespace std;\n",
        "\n",
        "vector<int> solution(vector<int> num_list, int n) {\n",
        "    vector<int> answer;\n",
        "    answer.assign(num_list.begin()+n-1, num_list.end());\n",
        "    return answer;\n",
        "}"
      ],
      "metadata": {
        "id": "mLbKRq-n8ur4"
      },
      "execution_count": null,
      "outputs": []
    },
    {
      "cell_type": "code",
      "source": [
        "#include <string>\n",
        "#include <vector>\n",
        "\n",
        "using namespace std;\n",
        "\n",
        "vector<int> solution(vector<int> num_list, int n) {\n",
        "    return vector<int>(num_list.begin() + n - 1,num_list.end());\n",
        "}"
      ],
      "metadata": {
        "id": "fuvJR_xt9H-6"
      },
      "execution_count": null,
      "outputs": []
    }
  ]
}