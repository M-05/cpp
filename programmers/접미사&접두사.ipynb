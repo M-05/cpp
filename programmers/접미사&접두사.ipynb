{
  "nbformat": 4,
  "nbformat_minor": 0,
  "metadata": {
    "colab": {
      "provenance": []
    },
    "kernelspec": {
      "name": "python3",
      "display_name": "Python 3"
    },
    "language_info": {
      "name": "python"
    }
  },
  "cells": [
    {
      "cell_type": "markdown",
      "source": [
        "# [접두사인지 확인하기](https://school.programmers.co.kr/learn/courses/30/lessons/181906)"
      ],
      "metadata": {
        "id": "HcwgqTmKt4Ax"
      }
    },
    {
      "cell_type": "code",
      "execution_count": null,
      "metadata": {
        "id": "J-fIQDkNrYk7"
      },
      "outputs": [],
      "source": [
        "#include <string>\n",
        "#include <vector>\n",
        "\n",
        "using namespace std;\n",
        "\n",
        "int solution(string my_string, string is_prefix) {\n",
        "    for(int i; i<is_prefix.size(); ++i){\n",
        "        if (my_string[i] != is_prefix[i]){\n",
        "            return 0;\n",
        "        }\n",
        "    } return 1;\n",
        "}"
      ]
    },
    {
      "cell_type": "code",
      "source": [
        "#include <string>\n",
        "#include <vector>\n",
        "\n",
        "using namespace std;\n",
        "\n",
        "int solution(string my_string, string is_prefix) {\n",
        "    return my_string.substr(0, is_prefix.size()) == is_prefix ? 1 : 0;\n",
        "}"
      ],
      "metadata": {
        "id": "Tc_kBZkUuXcA"
      },
      "execution_count": null,
      "outputs": []
    },
    {
      "cell_type": "code",
      "source": [
        "#include <string>\n",
        "#include <vector>\n",
        "#include <algorithm>\n",
        "\n",
        "using namespace std;\n",
        "\n",
        "int solution(string my_string, string is_prefix) {\n",
        "    return (my_string.find(is_prefix) == 0);\n",
        "}"
      ],
      "metadata": {
        "id": "nC2dHnrKudgv"
      },
      "execution_count": null,
      "outputs": []
    },
    {
      "cell_type": "markdown",
      "source": [
        "# [접미사인지 확인하기](https://school.programmers.co.kr/learn/courses/30/lessons/181908)"
      ],
      "metadata": {
        "id": "P9V82Q6Y2PyW"
      }
    },
    {
      "cell_type": "code",
      "source": [
        "#include <string>\n",
        "#include <vector>\n",
        "#include <iostream>\n",
        "\n",
        "using namespace std;\n",
        "\n",
        "int solution(string my_string, string is_suffix) {\n",
        "    int j = 0;\n",
        "    if (is_suffix.size() > my_string.size()) return 0;\n",
        "\n",
        "    for(int i=my_string.size() - is_suffix.size(); i<my_string.size(); ++i){\n",
        "        // printf(\"%d,%d : %c %c\\n\", i,j, my_string[i], is_suffix[j]);\n",
        "        if (my_string[i] != is_suffix[j]){\n",
        "            return 0;\n",
        "        } ++j;\n",
        "    }\n",
        "    return 1;\n",
        "}"
      ],
      "metadata": {
        "id": "EFHzLJYX2P1o"
      },
      "execution_count": null,
      "outputs": []
    },
    {
      "cell_type": "code",
      "source": [
        "#include <string>\n",
        "#include <vector>\n",
        "\n",
        "using namespace std;\n",
        "\n",
        "int solution(string my_string, string is_suffix) {\n",
        "    if (is_suffix.size() > my_string.size()) return 0;\n",
        "    return my_string.substr(my_string.size()-is_suffix.size(), my_string.size()) == is_suffix ? 1 : 0;\n",
        "}"
      ],
      "metadata": {
        "id": "X3VSYcKT2P4K"
      },
      "execution_count": null,
      "outputs": []
    },
    {
      "cell_type": "code",
      "source": [],
      "metadata": {
        "id": "peEm2zCxHf9G"
      },
      "execution_count": null,
      "outputs": []
    }
  ]
}