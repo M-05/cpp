{
  "nbformat": 4,
  "nbformat_minor": 0,
  "metadata": {
    "colab": {
      "provenance": []
    },
    "kernelspec": {
      "name": "python3",
      "display_name": "Python 3"
    },
    "language_info": {
      "name": "python"
    }
  },
  "cells": [
    {
      "cell_type": "markdown",
      "source": [
        "# [길이에 따른 연산](https://school.programmers.co.kr/learn/courses/30/lessons/181879)"
      ],
      "metadata": {
        "id": "JlWkxDp7_9EQ"
      }
    },
    {
      "cell_type": "code",
      "source": [
        "#include <vector>\n",
        "\n",
        "using namespace std;\n",
        "\n",
        "int solution(vector<int> num_list) {\n",
        "    int sum = 0, multiple = 1;\n",
        "    if (num_list.size() >= 11){\n",
        "        for (auto n : num_list){\n",
        "            sum += n;\n",
        "        } return sum;\n",
        "    }\n",
        "    else {\n",
        "        for (auto n : num_list){\n",
        "            multiple *= n;\n",
        "        } return multiple;\n",
        "    }\n",
        "}"
      ],
      "metadata": {
        "id": "g3VHKb_16bAH"
      },
      "execution_count": null,
      "outputs": []
    },
    {
      "cell_type": "code",
      "source": [
        "accumulate(InputIt first, InputIt last, T init, BinaryOperation op)\n",
        "\n",
        "BinaryOperation op\n",
        "This can either be a function pointer or a function object.\n",
        "The operation shall not modify the elements passed as its arguments"
      ],
      "metadata": {
        "id": "LpfWpkgeAVb3"
      },
      "execution_count": null,
      "outputs": []
    },
    {
      "cell_type": "code",
      "source": [
        "#include <string>\n",
        "#include <vector>\n",
        "#include <numeric>\n",
        "using namespace std;\n",
        "\n",
        "int solution(vector<int> num_list) {\n",
        "    return num_list.size()<=10?\n",
        "        accumulate(num_list.begin(), num_list.end(), 1, multiplies<int>()):\n",
        "        accumulate(num_list.begin(), num_list.end(), 0);\n",
        "}"
      ],
      "metadata": {
        "id": "MXNDRww86bCP"
      },
      "execution_count": null,
      "outputs": []
    },
    {
      "cell_type": "code",
      "source": [
        "#include <vector>\n",
        "\n",
        "using namespace std;\n",
        "\n",
        "int solution(vector<int> num_list)\n",
        "{\n",
        "    int sum = 0, product = 1;\n",
        "    for (int i = 0; i < num_list.size(); ++i)\n",
        "    {\n",
        "        sum += num_list[i];\n",
        "        product *= num_list[i];\n",
        "    }\n",
        "\n",
        "    return num_list.size() >= 11 ? sum : product;\n",
        "}"
      ],
      "metadata": {
        "id": "2Qzmvqbh_3nu"
      },
      "execution_count": null,
      "outputs": []
    }
  ]
}