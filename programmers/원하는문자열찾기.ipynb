{
  "nbformat": 4,
  "nbformat_minor": 0,
  "metadata": {
    "colab": {
      "provenance": []
    },
    "kernelspec": {
      "name": "python3",
      "display_name": "Python 3"
    },
    "language_info": {
      "name": "python"
    }
  },
  "cells": [
    {
      "cell_type": "markdown",
      "source": [
        "# [원하는 문자열 찾기](https://school.programmers.co.kr/learn/courses/30/lessons/181878)"
      ],
      "metadata": {
        "id": "Nig2rXegfdoT"
      }
    },
    {
      "cell_type": "code",
      "execution_count": null,
      "metadata": {
        "id": "Q9WeNXPsfb1A"
      },
      "outputs": [],
      "source": [
        "#include <string>\n",
        "#include <vector>\n",
        "#include <algorithm>\n",
        "\n",
        "using namespace std;\n",
        "\n",
        "int solution(string myString, string pat) {\n",
        "    string lowerStr, lowerPat;\n",
        "    for (auto ch : myString){\n",
        "        lowerStr += tolower(ch);\n",
        "    }\n",
        "    for (auto ch : pat){\n",
        "        lowerPat += tolower(ch);\n",
        "    }\n",
        "    return lowerStr.find(lowerPat) != std::string::npos ? 1 : 0;\n",
        "\n",
        "}"
      ]
    },
    {
      "cell_type": "code",
      "source": [
        "npos : no position"
      ],
      "metadata": {
        "id": "bYm4wdNEr1mr"
      },
      "execution_count": null,
      "outputs": []
    },
    {
      "cell_type": "markdown",
      "source": [
        "---"
      ],
      "metadata": {
        "id": "SGYbq_l8sGGs"
      }
    },
    {
      "cell_type": "code",
      "source": [
        "#include <string>\n",
        "#include <vector>\n",
        "#include <algorithm>\n",
        "using namespace std;\n",
        "\n",
        "int solution(string myString, string pat) {\n",
        "    transform(myString.begin(),myString.end(),myString.begin(),::toupper);\n",
        "    transform(pat.begin(),pat.end(),pat.begin(),::toupper);\n",
        "\n",
        "    return myString.find(pat) != string::npos;\n",
        "}"
      ],
      "metadata": {
        "id": "AdUY0aamsGxk"
      },
      "execution_count": null,
      "outputs": []
    }
  ]
}