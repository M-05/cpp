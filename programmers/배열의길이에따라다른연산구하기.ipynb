{
  "nbformat": 4,
  "nbformat_minor": 0,
  "metadata": {
    "colab": {
      "provenance": []
    },
    "kernelspec": {
      "name": "python3",
      "display_name": "Python 3"
    },
    "language_info": {
      "name": "python"
    }
  },
  "cells": [
    {
      "cell_type": "markdown",
      "source": [
        "# [배열의 길이에 따라 다른 연산 구하기](https://school.programmers.co.kr/learn/courses/30/lessons/181854)"
      ],
      "metadata": {
        "id": "bYPkNgLECKWH"
      }
    },
    {
      "cell_type": "code",
      "source": [
        "#include <string>\n",
        "#include <vector>\n",
        "\n",
        "using namespace std;\n",
        "\n",
        "vector<int> solution(vector<int> arr, int n) {\n",
        "    if (arr.size() & 1){ // 홀수라면\n",
        "        for(int i; i<arr.size(); i +=2){\n",
        "            arr[i] += n;\n",
        "        }\n",
        "    }\n",
        "    else {\n",
        "        for(int i=1; i<arr.size(); i += 2){\n",
        "            arr[i] += n;\n",
        "        }\n",
        "    }\n",
        "\n",
        "    return arr;\n",
        "}"
      ],
      "metadata": {
        "id": "0yyBI82mCP_9"
      },
      "execution_count": null,
      "outputs": []
    },
    {
      "cell_type": "markdown",
      "source": [
        "---"
      ],
      "metadata": {
        "id": "jo1VTY6cSgEv"
      }
    },
    {
      "cell_type": "code",
      "source": [
        "#include <string>\n",
        "#include <vector>\n",
        "\n",
        "using namespace std;\n",
        "\n",
        "vector<int> solution(vector<int> arr, int n) {\n",
        "    int idx;\n",
        "    if(arr.size()%2) idx = 0;\n",
        "    else             idx = 1;\n",
        "    for(idx ; idx < arr.size(); idx+=2) arr[idx]+=n;\n",
        "    return arr;\n",
        "}"
      ],
      "metadata": {
        "id": "WbEbcBI5Sg4u"
      },
      "execution_count": null,
      "outputs": []
    }
  ]
}