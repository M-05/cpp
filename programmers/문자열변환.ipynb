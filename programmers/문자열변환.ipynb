{
  "nbformat": 4,
  "nbformat_minor": 0,
  "metadata": {
    "colab": {
      "provenance": []
    },
    "kernelspec": {
      "name": "python3",
      "display_name": "Python 3"
    },
    "language_info": {
      "name": "python"
    }
  },
  "cells": [
    {
      "cell_type": "markdown",
      "source": [
        "# [문자열 변환](https://school.programmers.co.kr/learn/courses/30/lessons/181845)"
      ],
      "metadata": {
        "id": "8A2Mq7n8uULN"
      }
    },
    {
      "cell_type": "code",
      "source": [
        "#include <string>\n",
        "#include <vector>\n",
        "#include <iostream>\n",
        "\n",
        "using namespace std;\n",
        "\n",
        "string solution(int n) {\n",
        "    // string answer = \"\";\n",
        "    // cout << stoi(to_string(n)) << endl;\n",
        "    return to_string(n);\n",
        "}"
      ],
      "metadata": {
        "id": "AzeXyz03uiHY"
      },
      "execution_count": null,
      "outputs": []
    },
    {
      "cell_type": "code",
      "source": [
        "to_string(k)\n",
        "stoi(to_string(k))"
      ],
      "metadata": {
        "id": "hv4rT5vz3Xjf"
      },
      "execution_count": null,
      "outputs": []
    },
    {
      "cell_type": "code",
      "source": [
        "%%writefile sample.cpp\n",
        "#include <iostream>\n",
        "#include <string>\n",
        "\n",
        "using namespace std;\n",
        "int main(){\n",
        "    int k = 5;\n",
        "    cout << typeid(k).name() << \" \" << k << endl;\n",
        "    cout << typeid(to_string(k)).name() << \" \" <<to_string(k) << endl;\n",
        "    cout << typeid(stoi(to_string(k))).name() << \" \" <<stoi(to_string(k)) << endl;\n",
        "    return 0;\n",
        "}"
      ],
      "metadata": {
        "colab": {
          "base_uri": "https://localhost:8080/"
        },
        "id": "hcRUEM3ar6Qs",
        "outputId": "be9f8ed1-eb78-429b-f09f-949ead5ebd1b"
      },
      "execution_count": null,
      "outputs": [
        {
          "output_type": "stream",
          "name": "stdout",
          "text": [
            "Overwriting sample.cpp\n"
          ]
        }
      ]
    },
    {
      "cell_type": "code",
      "source": [
        "%%shell\n",
        "g++ sample.cpp\n",
        "./a.out"
      ],
      "metadata": {
        "colab": {
          "base_uri": "https://localhost:8080/"
        },
        "id": "DdNdFGPUsTy5",
        "outputId": "81f53d14-cc75-43c0-ada6-928234c6d951"
      },
      "execution_count": null,
      "outputs": [
        {
          "output_type": "stream",
          "name": "stdout",
          "text": [
            "i 5\n",
            "NSt7__cxx1112basic_stringIcSt11char_traitsIcESaIcEEE 5\n",
            "i 5\n"
          ]
        },
        {
          "output_type": "execute_result",
          "data": {
            "text/plain": []
          },
          "metadata": {},
          "execution_count": 8
        }
      ]
    }
  ]
}