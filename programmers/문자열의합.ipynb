{
  "nbformat": 4,
  "nbformat_minor": 0,
  "metadata": {
    "colab": {
      "provenance": []
    },
    "kernelspec": {
      "name": "python3",
      "display_name": "Python 3"
    },
    "language_info": {
      "name": "python"
    }
  },
  "cells": [
    {
      "cell_type": "markdown",
      "source": [
        "# [문자열의 합](https://school.programmers.co.kr/learn/courses/30/lessons/181849)"
      ],
      "metadata": {
        "id": "3swDAcVOe38G"
      }
    },
    {
      "cell_type": "code",
      "source": [
        "stoi(\"25\")  --> 25\n",
        "stoi('1')   --> ERROR\n",
        "'9' - '0'   --> 9\n",
        "'10' - '0'  --> 12544\n",
        "'5' - 48    --> 5"
      ],
      "metadata": {
        "id": "ZpDHl-1fkt1E"
      },
      "execution_count": null,
      "outputs": []
    },
    {
      "cell_type": "code",
      "source": [
        "#include <string>\n",
        "#include <vector>\n",
        "\n",
        "using namespace std;\n",
        "\n",
        "int solution(string num_str) {\n",
        "    int answer = 0;\n",
        "    for (auto ch : num_str){\n",
        "        answer += ch -'0';\n",
        "    }\n",
        "    return answer;\n",
        "}"
      ],
      "metadata": {
        "id": "3qutgrZDe4_t"
      },
      "execution_count": null,
      "outputs": []
    },
    {
      "cell_type": "code",
      "source": [
        "#include <string>\n",
        "#include <vector>\n",
        "#include <iostream>\n",
        "\n",
        "using namespace std;\n",
        "\n",
        "int solution(string num_str) {\n",
        "    int answer = 0;\n",
        "    for (auto ch : num_str){\n",
        "        answer += ch -48;\n",
        "    }\n",
        "    return answer;\n",
        "}"
      ],
      "metadata": {
        "id": "T509Fr2Emdaj"
      },
      "execution_count": null,
      "outputs": []
    }
  ]
}