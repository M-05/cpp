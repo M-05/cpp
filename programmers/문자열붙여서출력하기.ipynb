{
  "nbformat": 4,
  "nbformat_minor": 0,
  "metadata": {
    "colab": {
      "provenance": []
    },
    "kernelspec": {
      "name": "python3",
      "display_name": "Python 3"
    },
    "language_info": {
      "name": "python"
    }
  },
  "cells": [
    {
      "cell_type": "markdown",
      "source": [
        "# [문자열 붙여서 출력하기](https://school.programmers.co.kr/learn/courses/30/lessons/181946)"
      ],
      "metadata": {
        "id": "LVbnYtSNkBwf"
      }
    },
    {
      "cell_type": "code",
      "source": [
        "#include <algorithm>\n",
        "std::remove_if\n",
        "#include <cctype>\n",
        "std::isspace\n",
        "#include <sstream>\n",
        "istringstream iss(input);\n",
        "    iss >> str1 >> str2;"
      ],
      "metadata": {
        "id": "mSAnLIupkNZM"
      },
      "execution_count": null,
      "outputs": []
    },
    {
      "cell_type": "code",
      "source": [
        "string은 cin 으로 입력 받을 수 있으나, scanf로는 입력 받을 수 없다"
      ],
      "metadata": {
        "id": "OLhKnGjrkJXN"
      },
      "execution_count": null,
      "outputs": []
    },
    {
      "cell_type": "code",
      "source": [
        "#include <iostream>\n",
        "#include <string>\n",
        "using namespace std;\n",
        "\n",
        "int main(void) {\n",
        "    string str1, str2;\n",
        "    cin >> str1 >> str2;\n",
        "    printf(\"%s%s\", str1.c_str(), str2.c_str());\n",
        "\n",
        "    return 0;\n",
        "}"
      ],
      "metadata": {
        "id": "-XfyDEXDinv3"
      },
      "execution_count": null,
      "outputs": []
    },
    {
      "cell_type": "code",
      "source": [
        "#include <iostream>\n",
        "#include <string>\n",
        "#include <sstream>\n",
        "using namespace std;\n",
        "\n",
        "int main(void) {\n",
        "    string str1, str2, input;\n",
        "    getline(cin, input);\n",
        "    istringstream iss(input);\n",
        "    iss >> str1 >> str2;\n",
        "    printf(\"%s%s\", str1.c_str(), str2.c_str());\n",
        "    // cout << str1 << str2;\n",
        "\n",
        "    return 0;\n",
        "}"
      ],
      "metadata": {
        "id": "R16ZI9GJinyP"
      },
      "execution_count": null,
      "outputs": []
    },
    {
      "cell_type": "code",
      "source": [
        "#include <iostream>\n",
        "#include <string>\n",
        "#include <algorithm> // std::remove_if\n",
        "#include <cctype>    // std::isspace\n",
        "\n",
        "using namespace std;\n",
        "\n",
        "int main(void) {\n",
        "    string input;\n",
        "    getline(cin, input);\n",
        "    input.erase(remove_if(input.begin(), input.end(), ::isspace), input.end());\n",
        "//    cout << input;\n",
        "    printf(\"%s\", input.c_str());\n",
        "\n",
        "    return 0;\n",
        "}"
      ],
      "metadata": {
        "id": "qiePn9s8jm0R"
      },
      "execution_count": null,
      "outputs": []
    }
  ]
}