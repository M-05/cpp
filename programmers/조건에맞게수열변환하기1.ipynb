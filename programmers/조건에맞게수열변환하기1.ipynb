{
  "nbformat": 4,
  "nbformat_minor": 0,
  "metadata": {
    "colab": {
      "provenance": []
    },
    "kernelspec": {
      "name": "python3",
      "display_name": "Python 3"
    },
    "language_info": {
      "name": "python"
    }
  },
  "cells": [
    {
      "cell_type": "markdown",
      "source": [
        "# [조건에 맞게 수열 변환하기 1](https://school.programmers.co.kr/learn/courses/30/lessons/181882)"
      ],
      "metadata": {
        "id": "w5JN4wt7GCss"
      }
    },
    {
      "cell_type": "code",
      "execution_count": null,
      "metadata": {
        "id": "zxiOvhTJ8sgl"
      },
      "outputs": [],
      "source": [
        "#include <string>\n",
        "#include <vector>\n",
        "\n",
        "using namespace std;\n",
        "\n",
        "vector<int> solution(vector<int> arr) {\n",
        "    vector<int> answer;\n",
        "\n",
        "    for(auto t : arr) {\n",
        "        if(t >= 50 && t % 2 == 0) {\n",
        "            answer.push_back(t / 2);\n",
        "        }\n",
        "        else if(t < 50 && t % 2 == 1) {\n",
        "            answer.push_back(t * 2);\n",
        "        }\n",
        "        else answer.push_back(t);\n",
        "    }\n",
        "    return answer;\n",
        "}"
      ]
    },
    {
      "cell_type": "code",
      "source": [
        "#include <vector>\n",
        "using namespace std;\n",
        "\n",
        "vector<int> solution(vector<int> arr) {\n",
        "    for(auto& i : arr)\n",
        "        i = (i & 1) ? (i < 50 ? i << 1 : i) : (i >= 50 ? i >> 1 : i);\n",
        "    return arr;\n",
        "}"
      ],
      "metadata": {
        "id": "1zBJB3OnBFic"
      },
      "execution_count": null,
      "outputs": []
    },
    {
      "cell_type": "code",
      "source": [
        "#include <string>\n",
        "#include <vector>\n",
        "#include <iostream>\n",
        "\n",
        "using namespace std;\n",
        "\n",
        "vector<int> solution(vector<int> arr) {\n",
        "    vector<int> answer;\n",
        "    for (auto& a : arr) { // 하나씩 차례대로 for loop\n",
        "        // cout << (a & 1) << endl; // & 함수로 1과 비교하여 홀수 확인\n",
        "        if (a & 1) { // 홀수라면\n",
        "            if (a < 50) {\n",
        "                //a = a << 1; // 2^1 곱하기\n",
        "                a <<= 1;\n",
        "            }\n",
        "        } else {  // 짝수라면\n",
        "            if (a >= 50) {\n",
        "                //a = a >> 1; // 2^1 나누기\n",
        "                a >>= 1;\n",
        "            }\n",
        "        }\n",
        "        cout << a << '\\t';\n",
        "        // 2 2 6 50 99 49\n",
        "    }\n",
        "\n",
        "    return arr;\n",
        "}\n",
        "// auto& 하면 [2, 2, 6, 50, 99, 49]\n",
        "// auto 하면 [1, 2, 3, 100, 99, 98]"
      ],
      "metadata": {
        "id": "Ig19dmLnE2Tv"
      },
      "execution_count": null,
      "outputs": []
    }
  ]
}