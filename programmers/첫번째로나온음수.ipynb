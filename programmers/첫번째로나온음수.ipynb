{
  "nbformat": 4,
  "nbformat_minor": 0,
  "metadata": {
    "colab": {
      "provenance": []
    },
    "kernelspec": {
      "name": "python3",
      "display_name": "Python 3"
    },
    "language_info": {
      "name": "python"
    }
  },
  "cells": [
    {
      "cell_type": "markdown",
      "source": [
        "# [첫 번째로 나온 음수](https://school.programmers.co.kr/learn/courses/30/lessons/181896)"
      ],
      "metadata": {
        "id": "Nig2rXegfdoT"
      }
    },
    {
      "cell_type": "code",
      "execution_count": null,
      "metadata": {
        "id": "Q9WeNXPsfb1A"
      },
      "outputs": [],
      "source": [
        "#include <vector>\n",
        "\n",
        "using namespace std;\n",
        "\n",
        "int solution(vector<int> num_list) {\n",
        "    int answer = 0;\n",
        "    for (auto num : num_list){\n",
        "        if (num < 0){\n",
        "            return answer;\n",
        "        } ++answer;\n",
        "    }\n",
        "    return -1;\n",
        "}"
      ]
    }
  ]
}