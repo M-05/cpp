{
  "nbformat": 4,
  "nbformat_minor": 0,
  "metadata": {
    "colab": {
      "provenance": []
    },
    "kernelspec": {
      "name": "python3",
      "display_name": "Python 3"
    },
    "language_info": {
      "name": "python"
    }
  },
  "cells": [
    {
      "cell_type": "markdown",
      "source": [
        "# [정수 찾기](https://school.programmers.co.kr/learn/courses/30/lessons/181840)"
      ],
      "metadata": {
        "id": "DJ5v0EmFV4HB"
      }
    },
    {
      "cell_type": "code",
      "source": [
        "include alorithm\n",
        "find(vector.begin(), vector.end(), number) == vector.end()  --> 못 찾았다.\n",
        "find(vector.begin(), vector.end(), number) != vector.end()  --> number가 존재한다.\n",
        "\n",
        "find(num_list.begin(), num_list.end(), n) - num_list.begin(); --> index 가 나온다."
      ],
      "metadata": {
        "id": "LYUpTTpbV7l5"
      },
      "execution_count": null,
      "outputs": []
    },
    {
      "cell_type": "code",
      "source": [
        "#include <string>\n",
        "#include <vector>\n",
        "#include <iostream>\n",
        "#include <algorithm>\n",
        "\n",
        "using namespace std;\n",
        "\n",
        "int solution(vector<int> num_list, int n) {\n",
        "    if (find(num_list.begin(), num_list.end(), n) == num_list.end()){\n",
        "        return 0;\n",
        "    }\n",
        "    else return 1;\n",
        "}"
      ],
      "metadata": {
        "id": "wYptV70fV4Jx"
      },
      "execution_count": null,
      "outputs": []
    },
    {
      "cell_type": "markdown",
      "source": [
        "---"
      ],
      "metadata": {
        "id": "5dGMqFa_YSCN"
      }
    },
    {
      "cell_type": "code",
      "source": [
        "#include <vector>\n",
        "\n",
        "\n",
        "using namespace std;\n",
        "\n",
        "int solution(vector<int> num_list, int n) {\n",
        "    for(auto num : num_list){\n",
        "        if (num == n) return 1;\n",
        "    }return 0;\n",
        "}"
      ],
      "metadata": {
        "id": "FrIsgmetYSqe"
      },
      "execution_count": null,
      "outputs": []
    }
  ]
}