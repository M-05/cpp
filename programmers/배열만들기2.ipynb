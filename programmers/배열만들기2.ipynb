{
  "nbformat": 4,
  "nbformat_minor": 0,
  "metadata": {
    "colab": {
      "provenance": []
    },
    "kernelspec": {
      "name": "python3",
      "display_name": "Python 3"
    },
    "language_info": {
      "name": "python"
    }
  },
  "cells": [
    {
      "cell_type": "markdown",
      "source": [
        "# [배열 만들기 2](https://school.programmers.co.kr/learn/courses/30/lessons/181921?language=cpp)"
      ],
      "metadata": {
        "id": "t3KomFpukmHC"
      }
    },
    {
      "cell_type": "code",
      "source": [
        "#include <string>\n",
        "#include <vector>\n",
        "#include <iostream>\n",
        "\n",
        "using namespace std;\n",
        "\n",
        "vector<int> solution(int l, int r) {\n",
        "    vector<int> answer;\n",
        "    vector<string> numString = {\"0\", \"5\"};\n",
        "    // string numString = \"05\";\n",
        "    int numSum = 0;\n",
        "    for(auto a : numString)\n",
        "    {\n",
        "        for(auto b : numString)\n",
        "        {\n",
        "            for(auto c : numString)\n",
        "            {\n",
        "                for(auto d : numString)\n",
        "                {\n",
        "                    for(auto e : numString)\n",
        "                    {\n",
        "                        for(auto f : numString)\n",
        "                        {\n",
        "                            for(auto g : numString)\n",
        "                            {\n",
        "                                 string num = a + b + c + d + e + f + g;\n",
        "                                 // string num = {a, b, c, d, e, f, g};\n",
        "                                 numSum = stoi(num);\n",
        "\n",
        "                                 if(r < numSum)\n",
        "                                 {\n",
        "                                     if(answer.size() == 0)\n",
        "                                     // answer.empty()\n",
        "                                     {\n",
        "                                         answer.emplace_back(-1);\n",
        "                                         return answer;\n",
        "                                     }\n",
        "                                     else return answer;\n",
        "                                 }\n",
        "                                 if((l <= numSum) && (numSum <= r))\n",
        "                                 {\n",
        "                                     answer.emplace_back(numSum);\n",
        "                                 }\n",
        "\n",
        "                            }\n",
        "\n",
        "                        }\n",
        "                    }\n",
        "                }\n",
        "            }\n",
        "        }\n",
        "    }\n",
        "}"
      ],
      "metadata": {
        "id": "fI_-sBcHcB-l"
      },
      "execution_count": null,
      "outputs": []
    }
  ]
}