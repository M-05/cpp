{
  "nbformat": 4,
  "nbformat_minor": 0,
  "metadata": {
    "colab": {
      "provenance": []
    },
    "kernelspec": {
      "name": "python3",
      "display_name": "Python 3"
    },
    "language_info": {
      "name": "python"
    }
  },
  "cells": [
    {
      "cell_type": "markdown",
      "source": [
        "# [문자열 곱하기](https://school.programmers.co.kr/learn/courses/30/lessons/181940)"
      ],
      "metadata": {
        "id": "Ylx-HMl2qFLW"
      }
    },
    {
      "cell_type": "code",
      "execution_count": null,
      "metadata": {
        "id": "b67Nhdkxpjtt"
      },
      "outputs": [],
      "source": [
        "#include <string>\n",
        "#include <vector>\n",
        "#include <iostream>\n",
        "using namespace std;\n",
        "\n",
        "string solution(string my_string, int k) {\n",
        "    string answer = \"\";\n",
        "    while(k>0)\n",
        "    {\n",
        "        answer += my_string;\n",
        "        // for (int i=0; i < my_string.size(); ++i){\n",
        "        //     answer.push_back(my_string[i]);\n",
        "        // }\n",
        "        --k;\n",
        "    }\n",
        "    return answer;\n",
        "}\n"
      ]
    },
    {
      "cell_type": "code",
      "source": [
        "#include <string>\n",
        "#include <vector>\n",
        "#include <iostream>\n",
        "using namespace std;\n",
        "\n",
        "string solution(string my_string, int k) {\n",
        "    string answer = \"\";\n",
        "    for(;k>0;--k){\n",
        "        answer += my_string;\n",
        "    }\n",
        "    return answer;\n",
        "}\n"
      ],
      "metadata": {
        "id": "S2kDgkBGp-wf"
      },
      "execution_count": null,
      "outputs": []
    },
    {
      "cell_type": "code",
      "source": [
        "#include <string>\n",
        "#include <vector>\n",
        "#include <iostream>\n",
        "using namespace std;\n",
        "\n",
        "string solution(string my_string, int k) {\n",
        "    string answer = \"\";\n",
        "    for(;k>0;--k){\n",
        "        for(char c : my_string){\n",
        "            answer.push_back(c);\n",
        "        }\n",
        "    }\n",
        "    return answer;\n",
        "}\n"
      ],
      "metadata": {
        "id": "TF5-wpscqTnl"
      },
      "execution_count": null,
      "outputs": []
    },
    {
      "cell_type": "code",
      "source": [],
      "metadata": {
        "id": "WYrvzxeOqjzr"
      },
      "execution_count": null,
      "outputs": []
    },
    {
      "cell_type": "code",
      "source": [
        "%%writefile string.cpp\n",
        "\n",
        "#include <string>\n",
        "#include <iostream>\n",
        "\n",
        "using namespace std;\n",
        "\n",
        "string solution(string my_string, int k) {\n",
        "    string answer = \"\";\n",
        "    while (k > 0) {\n",
        "        for(char c : my_string){\n",
        "            cout << c << endl;\n",
        "            answer.push_back(c);\n",
        "        }\n",
        "        //answer += my_string;\n",
        "        --k;\n",
        "    }\n",
        "    return answer;\n",
        "}\n",
        "\n",
        "int main() {\n",
        "    string result = solution(\"hello\", 3);\n",
        "    cout << result << endl;\n",
        "    return 0;\n",
        "}\n"
      ],
      "metadata": {
        "colab": {
          "base_uri": "https://localhost:8080/"
        },
        "id": "PAnQLsxqoSQf",
        "outputId": "6ab6d9be-ad37-45a7-b825-3b8f3cdbb74d"
      },
      "execution_count": null,
      "outputs": [
        {
          "output_type": "stream",
          "name": "stdout",
          "text": [
            "Overwriting string.cpp\n"
          ]
        }
      ]
    },
    {
      "cell_type": "code",
      "source": [
        "%%shell\n",
        "g++ string.cpp\n",
        "./a.out"
      ],
      "metadata": {
        "colab": {
          "base_uri": "https://localhost:8080/"
        },
        "id": "j2Gcm5pYoXoq",
        "outputId": "19483fa5-defd-42ab-f423-bd9575ca984c"
      },
      "execution_count": null,
      "outputs": [
        {
          "output_type": "stream",
          "name": "stdout",
          "text": [
            "h\n",
            "e\n",
            "l\n",
            "l\n",
            "o\n",
            "h\n",
            "e\n",
            "l\n",
            "l\n",
            "o\n",
            "h\n",
            "e\n",
            "l\n",
            "l\n",
            "o\n",
            "hellohellohello\n"
          ]
        },
        {
          "output_type": "execute_result",
          "data": {
            "text/plain": []
          },
          "metadata": {},
          "execution_count": 122
        }
      ]
    },
    {
      "cell_type": "markdown",
      "source": [
        "---\n",
        "---"
      ],
      "metadata": {
        "id": "EsYeAAgXqukf"
      }
    },
    {
      "cell_type": "code",
      "source": [
        "#include <string>\n",
        "#include <vector>\n",
        "\n",
        "using namespace std;\n",
        "\n",
        "string solution(string my_string, int k) {\n",
        "    string answer = \"\";\n",
        "    while (k--) answer.append(my_string);\n",
        "    return answer;\n",
        "}"
      ],
      "metadata": {
        "id": "Lm0dqLuAqv9j"
      },
      "execution_count": null,
      "outputs": []
    },
    {
      "cell_type": "code",
      "source": [],
      "metadata": {
        "id": "5kn9szb4r6GC"
      },
      "execution_count": null,
      "outputs": []
    },
    {
      "cell_type": "code",
      "source": [],
      "metadata": {
        "id": "FhHktn4Lr6I_"
      },
      "execution_count": null,
      "outputs": []
    },
    {
      "cell_type": "code",
      "source": [],
      "metadata": {
        "id": "R4g9n8GLr6Lh"
      },
      "execution_count": null,
      "outputs": []
    },
    {
      "cell_type": "code",
      "source": [],
      "metadata": {
        "id": "SmLFl1R1r6OS"
      },
      "execution_count": null,
      "outputs": []
    },
    {
      "cell_type": "code",
      "source": [],
      "metadata": {
        "id": "71635ilJsXWU"
      },
      "execution_count": null,
      "outputs": []
    }
  ]
}