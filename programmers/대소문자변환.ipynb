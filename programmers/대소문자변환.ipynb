{
  "nbformat": 4,
  "nbformat_minor": 0,
  "metadata": {
    "colab": {
      "provenance": []
    },
    "kernelspec": {
      "name": "python3",
      "display_name": "Python 3"
    },
    "language_info": {
      "name": "python"
    }
  },
  "cells": [
    {
      "cell_type": "markdown",
      "source": [
        "# [대문자로 바꾸기](https://school.programmers.co.kr/learn/courses/30/lessons/181877)"
      ],
      "metadata": {
        "id": "kIB898TL9a_6"
      }
    },
    {
      "cell_type": "code",
      "source": [
        "# https://www.programiz.com/cpp-programming/library-function/cctype/toupper"
      ],
      "metadata": {
        "id": "6iHE-Jtu-3l8"
      },
      "execution_count": null,
      "outputs": []
    },
    {
      "cell_type": "code",
      "source": [
        "#include <string>\n",
        "#include <vector>\n",
        "\n",
        "\n",
        "using namespace std;\n",
        "\n",
        "string solution(string myString) {\n",
        "    for(int i=0; i < myString.size(); ++i)\n",
        "    {\n",
        "        myString[i] = toupper(myString[i]);\n",
        "    }\n",
        "    return myString;\n",
        "}"
      ],
      "metadata": {
        "id": "BG3V8iRi9Yrd"
      },
      "execution_count": null,
      "outputs": []
    },
    {
      "cell_type": "code",
      "source": [
        "#include <string>\n",
        "#include <iostream>\n",
        "\n",
        "using namespace std;\n",
        "\n",
        "string solution(string myString) {\n",
        "    string answer;\n",
        "//    cout << myString.size();\n",
        "    for(int i=0; i < myString.size(); ++i)\n",
        "    {\n",
        "        answer += toupper(myString[i]);\n",
        "    }\n",
        "    return answer;\n",
        "}"
      ],
      "metadata": {
        "id": "I_GYJ5p6-izq"
      },
      "execution_count": null,
      "outputs": []
    },
    {
      "cell_type": "code",
      "source": [
        "# https://namu.wiki/w/%EC%95%84%EC%8A%A4%ED%82%A4%20%EC%BD%94%EB%93%9C"
      ],
      "metadata": {
        "id": "JwtwKLvACegA"
      },
      "execution_count": null,
      "outputs": []
    },
    {
      "cell_type": "code",
      "source": [
        "#include <string>\n",
        "#include <iostream>\n",
        "// #include <cctype>\n",
        "\n",
        "using namespace std;\n",
        "\n",
        "string solution(string myString) {\n",
        "    for(int i=0; i < myString.size(); ++i)\n",
        "    {\n",
        "        if (islower(myString[i]))\n",
        "        {\n",
        "            myString[i] -= 32;\n",
        "        }\n",
        "\n",
        "    }\n",
        "    return myString;\n",
        "}"
      ],
      "metadata": {
        "id": "M2_1Ajf6BkdH"
      },
      "execution_count": null,
      "outputs": []
    },
    {
      "cell_type": "markdown",
      "source": [
        "---"
      ],
      "metadata": {
        "id": "Ayztz0VlCxN5"
      }
    },
    {
      "cell_type": "code",
      "source": [
        "#include <string>\n",
        "#include <vector>\n",
        "\n",
        "using namespace std;\n",
        "\n",
        "string solution(string myString) {\n",
        "    string answer = \"\";\n",
        "    for(char ch : myString)\n",
        "        answer += toupper(ch);\n",
        "    return answer;\n",
        "}"
      ],
      "metadata": {
        "id": "aLJo99UnCyLL"
      },
      "execution_count": null,
      "outputs": []
    },
    {
      "cell_type": "code",
      "source": [
        "#include <string>\n",
        "#include <vector>\n",
        "\n",
        "using namespace std;\n",
        "\n",
        "string solution(string myString) {\n",
        "    string answer = \"\";\n",
        "    for (char c : myString){\n",
        "        answer.push_back(toupper(c));\n",
        "    }\n",
        "    return answer;\n",
        "}"
      ],
      "metadata": {
        "id": "IPIIsE1FC8ef"
      },
      "execution_count": null,
      "outputs": []
    },
    {
      "cell_type": "code",
      "execution_count": 9,
      "metadata": {
        "colab": {
          "base_uri": "https://localhost:8080/"
        },
        "id": "QEGcStsU1XvJ",
        "outputId": "93636856-1e41-494d-9663-5d5f3fe110f0"
      },
      "outputs": [
        {
          "output_type": "stream",
          "name": "stdout",
          "text": [
            "Overwriting string.cpp\n"
          ]
        }
      ],
      "source": [
        "%%writefile string.cpp\n",
        "#include <iostream>\n",
        "#include <string>\n",
        "\n",
        "using namespace std;\n",
        "\n",
        "string solution(string myString) {\n",
        "    string answer = \"\";\n",
        "    for (char c : myString){\n",
        "        cout << c << endl;\n",
        "        answer.push_back(toupper(c));\n",
        "    }\n",
        "    return answer;\n",
        "}\n",
        "\n",
        "int main()\n",
        "{\n",
        "    cout << solution(\"abCdE\");\n",
        "\n",
        "}"
      ]
    },
    {
      "cell_type": "code",
      "source": [
        "%%shell\n",
        "g++ string.cpp\n",
        "./a.out"
      ],
      "metadata": {
        "colab": {
          "base_uri": "https://localhost:8080/"
        },
        "id": "yc0Wtob01wBW",
        "outputId": "f7bf2740-492d-4d60-81bd-198150ab0666"
      },
      "execution_count": 10,
      "outputs": [
        {
          "output_type": "stream",
          "name": "stdout",
          "text": [
            "a\n",
            "b\n",
            "C\n",
            "d\n",
            "E\n",
            "ABCDE"
          ]
        },
        {
          "output_type": "execute_result",
          "data": {
            "text/plain": []
          },
          "metadata": {},
          "execution_count": 10
        }
      ]
    },
    {
      "cell_type": "code",
      "source": [
        "%%writefile string.cpp\n",
        "#include <iostream>\n",
        "#include <string>\n",
        "#include <bits/stdc++.h>\n",
        "using namespace std;\n",
        "\n",
        "string solution(string myString) {\n",
        "    transform(myString.begin(),\n",
        "              myString.end(),\n",
        "              myString.begin(), ::toupper);\n",
        "    return myString;\n",
        "}\n",
        "\n",
        "int main()\n",
        "{\n",
        "    cout << solution(\"aBcdeFGz\");\n",
        "}"
      ],
      "metadata": {
        "colab": {
          "base_uri": "https://localhost:8080/"
        },
        "id": "DPl6w4B3DKVC",
        "outputId": "871e5199-6a63-47b6-e438-65e1d84a6ab3"
      },
      "execution_count": 22,
      "outputs": [
        {
          "output_type": "stream",
          "name": "stdout",
          "text": [
            "Overwriting string.cpp\n"
          ]
        }
      ]
    },
    {
      "cell_type": "code",
      "source": [
        "%%shell\n",
        "g++ string.cpp\n",
        "./a.out"
      ],
      "metadata": {
        "colab": {
          "base_uri": "https://localhost:8080/"
        },
        "id": "yHR5po0NFYSb",
        "outputId": "a0b0cb7f-22d1-4dd9-a09b-151f50a35444"
      },
      "execution_count": 23,
      "outputs": [
        {
          "output_type": "stream",
          "name": "stdout",
          "text": [
            "ABCDEFGZ"
          ]
        },
        {
          "output_type": "execute_result",
          "data": {
            "text/plain": []
          },
          "metadata": {},
          "execution_count": 23
        }
      ]
    },
    {
      "cell_type": "code",
      "source": [
        "transform 함수는 문자열의 각 문자를 대문자로 변환\n",
        "\n",
        "myString.begin(): 변환을 시작할 문자열의 첫 번째 위치를 가리키는 반복자.\n",
        "myString.end(): 변환을 끝낼 문자열의 끝 다음 위치를 가리키는 반복자.\n",
        "myString.begin(): 변환된 결과를 저장할 위치를 가리키는 반복자.\n",
        "::toupper: 대문자로 변환하는 함수 객체."
      ],
      "metadata": {
        "id": "RnQclMQ7Fn-n"
      },
      "execution_count": null,
      "outputs": []
    },
    {
      "cell_type": "code",
      "source": [],
      "metadata": {
        "id": "4sz2WXT-kKeU"
      },
      "execution_count": null,
      "outputs": []
    },
    {
      "cell_type": "markdown",
      "source": [
        "# [소문자로 바꾸기](https://school.programmers.co.kr/learn/courses/30/lessons/181876)"
      ],
      "metadata": {
        "id": "Wv7XTvo5kKhj"
      }
    },
    {
      "cell_type": "code",
      "source": [
        "#include <string>\n",
        "#include <vector>\n",
        "\n",
        "using namespace std;\n",
        "\n",
        "string solution(string myString) {\n",
        "    string answer = \"\";\n",
        "\n",
        "    for (int i=0; i < myString.size(); ++i)\n",
        "    {\n",
        "        // if (isupper(myString[i])){\n",
        "        // answer += tolower(myString[i]);\n",
        "        answer.push_back(tolower(myString[i]));\n",
        "        // myString[i] += 32;}\n",
        "    }\n",
        "    // return myString;\n",
        "    return answer;\n",
        "}"
      ],
      "metadata": {
        "id": "Xc43CHs4kLo4"
      },
      "execution_count": null,
      "outputs": []
    },
    {
      "cell_type": "markdown",
      "source": [
        "# [n의 배수](https://school.programmers.co.kr/learn/courses/30/lessons/181937)"
      ],
      "metadata": {
        "id": "KaJhjd3V2VkO"
      }
    },
    {
      "cell_type": "code",
      "source": [
        "#include <string>\n",
        "#include <vector>\n",
        "\n",
        "using namespace std;\n",
        "\n",
        "int solution(int num, int n) {\n",
        "    return (num%n==0 ? 1 : 0);\n",
        "\n",
        "}"
      ],
      "metadata": {
        "id": "C8JV98FG2UX5"
      },
      "execution_count": null,
      "outputs": []
    }
  ]
}