{
  "nbformat": 4,
  "nbformat_minor": 0,
  "metadata": {
    "colab": {
      "provenance": []
    },
    "kernelspec": {
      "name": "python3",
      "display_name": "Python 3"
    },
    "language_info": {
      "name": "python"
    }
  },
  "cells": [
    {
      "cell_type": "markdown",
      "source": [
        "# [주사위 게임 2](https://school.programmers.co.kr/learn/courses/30/lessons/181930)"
      ],
      "metadata": {
        "id": "YXJMt8ts5Obk"
      }
    },
    {
      "cell_type": "code",
      "source": [
        "include cmath\n",
        "include set\n",
        "include math.h"
      ],
      "metadata": {
        "id": "oBpteK-N5X_e"
      },
      "execution_count": null,
      "outputs": []
    },
    {
      "cell_type": "code",
      "source": [
        "#include <string>\n",
        "#include <vector>\n",
        "#include <math.h>\n",
        "\n",
        "using namespace std;\n",
        "\n",
        "int solution(int a, int b, int c) {\n",
        "    int answer = a + b + c;\n",
        "    if(a != b && b != c && a != c)\n",
        "    {\n",
        "        return answer;\n",
        "    }\n",
        "    else if (a == b && b == c && a == c)\n",
        "    {\n",
        "        return answer * (a*a + b*b + c*c) * (pow(a,3) + pow(b,3) + pow(c,3));\n",
        "    }\n",
        "    else\n",
        "    {\n",
        "        return answer * (a*a + b*b + c*c);\n",
        "    }\n",
        "}"
      ],
      "metadata": {
        "id": "qdeGnkiPJ5OF"
      },
      "execution_count": null,
      "outputs": []
    },
    {
      "cell_type": "code",
      "execution_count": null,
      "metadata": {
        "id": "GPB98eIcHbsx"
      },
      "outputs": [],
      "source": [
        "#include <string>\n",
        "#include <vector>\n",
        "#include <math.h>\n",
        "#include <set>\n",
        "\n",
        "using namespace std;\n",
        "\n",
        "int solution(int a, int b, int c)\n",
        "{\n",
        "    set<int> s{a, b, c};\n",
        "    if(s.size() == 3)\n",
        "        return a + b + c;\n",
        "    if(s.size() == 2)\n",
        "        return (a + b + c) * (pow(a, 2) + pow(b, 2) + pow(c, 2));\n",
        "    if(s.size() == 1)\n",
        "        return (a + b + c) * (pow(a, 2) + pow(b, 2) + pow(c,2)) * (pow(a, 3) + pow(b, 3) + pow(c, 3));\n",
        "\n",
        "}"
      ]
    },
    {
      "cell_type": "code",
      "source": [],
      "metadata": {
        "id": "Fc6NxeRSu9H1"
      },
      "execution_count": null,
      "outputs": []
    }
  ]
}