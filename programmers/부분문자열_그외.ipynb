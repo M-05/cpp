{
  "nbformat": 4,
  "nbformat_minor": 0,
  "metadata": {
    "colab": {
      "provenance": []
    },
    "kernelspec": {
      "name": "python3",
      "display_name": "Python 3"
    },
    "language_info": {
      "name": "python"
    }
  },
  "cells": [
    {
      "cell_type": "markdown",
      "source": [
        "# [부분 문자열](https://school.programmers.co.kr/learn/courses/30/lessons/181842)"
      ],
      "metadata": {
        "id": "sQTeAk4HTgUr"
      }
    },
    {
      "cell_type": "code",
      "source": [
        "# https://cplusplus.com/reference/string/string/find/"
      ],
      "metadata": {
        "id": "qXWzAmrcWo5g"
      },
      "execution_count": null,
      "outputs": []
    },
    {
      "cell_type": "code",
      "source": [
        "// 50점.\n",
        "\n",
        "#include <string>\n",
        "#include <vector>\n",
        "#include <iostream>\n",
        "using namespace std;\n",
        "\n",
        "int solution(string str1, string str2) {\n",
        "    // cout << str2.find(str1); // 18446744073709551615\n",
        "    return str2.find(str1) == true ? 1 : 0;\n",
        "}"
      ],
      "metadata": {
        "id": "qnvccIRaTgdR"
      },
      "execution_count": null,
      "outputs": []
    },
    {
      "cell_type": "code",
      "source": [
        "# https://cplusplus.com/reference/string/string/find/"
      ],
      "metadata": {
        "id": "lEdXyhYXVTAa"
      },
      "execution_count": null,
      "outputs": []
    },
    {
      "cell_type": "code",
      "source": [
        "#include <string>\n",
        "#include <vector>\n",
        "#include <iostream>\n",
        "using namespace std;\n",
        "\n",
        "int solution(string str1, string str2) {\n",
        "    // cout << str2.find(str1); // 18446744073709551615\n",
        "    // cout << string::npos; // 18446744073709551615\n",
        "    // the greatest possible value\n",
        "    return str2.find(str1) != string::npos ? 1 : 0;\n",
        "}"
      ],
      "metadata": {
        "id": "P6bc1Cn-VTDI"
      },
      "execution_count": null,
      "outputs": []
    },
    {
      "cell_type": "markdown",
      "source": [
        "---"
      ],
      "metadata": {
        "id": "praRxpRAWh-G"
      }
    },
    {
      "cell_type": "code",
      "source": [
        "#include <string>\n",
        "#include <vector>\n",
        "\n",
        "using namespace std;\n",
        "\n",
        "int solution(string str1, string str2) {\n",
        "\n",
        "    return (str2.find(str1) != string::npos);\n",
        "}"
      ],
      "metadata": {
        "id": "Yq2fUd7wWhak"
      },
      "execution_count": null,
      "outputs": []
    },
    {
      "cell_type": "markdown",
      "source": [
        "# [홀짝에 따라 다른 값 반환하기](https://school.programmers.co.kr/learn/courses/30/lessons/181935)"
      ],
      "metadata": {
        "id": "Bbrjqiu7DEzm"
      }
    },
    {
      "cell_type": "code",
      "source": [
        "#include <string>\n",
        "#include <vector>\n",
        "\n",
        "using namespace std;\n",
        "\n",
        "int solution(int n) {\n",
        "    int answer = 0;\n",
        "    if(n % 2 == 0)\n",
        "    {\n",
        "        for(int i = 2; i <= n; i += 2)\n",
        "        {\n",
        "            answer += i * i;\n",
        "        }\n",
        "    } else\n",
        "    {\n",
        "        for(int i = 1; i <= n; i += 2)\n",
        "        {\n",
        "            answer += i;\n",
        "        }\n",
        "    }\n",
        "\n",
        "    return answer;\n",
        "}"
      ],
      "metadata": {
        "id": "IQoVqlsnADl-"
      },
      "execution_count": null,
      "outputs": []
    },
    {
      "cell_type": "code",
      "source": [],
      "metadata": {
        "id": "mp7luM4CNIVh"
      },
      "execution_count": null,
      "outputs": []
    },
    {
      "cell_type": "code",
      "execution_count": null,
      "metadata": {
        "id": "yJoOvWOH3sCn"
      },
      "outputs": [],
      "source": [
        "\n",
        "#include <string>\n",
        "#include <vector>\n",
        "\n",
        "using namespace std;\n",
        "\n",
        "int solution(int n) {\n",
        "    int answer = 0;\n",
        "    while(n>0)\n",
        "    {\n",
        "        answer += n%2==0 ? n*n : n;\n",
        "        n-=2;\n",
        "    }\n",
        "    return answer;\n",
        "}"
      ]
    },
    {
      "cell_type": "markdown",
      "source": [
        "# [flag에 따라 다른 값 반환하기](https://school.programmers.co.kr/learn/courses/30/lessons/181933)"
      ],
      "metadata": {
        "id": "G0BG4j0YCLGZ"
      }
    },
    {
      "cell_type": "code",
      "source": [
        "#include <string>\n",
        "#include <vector>\n",
        "\n",
        "using namespace std;\n",
        "\n",
        "int solution(int a, int b, bool flag) {\n",
        "    // int answer = 0;\n",
        "    return flag ? a + b : a - b;\n",
        "    // return answer;\n",
        "}"
      ],
      "metadata": {
        "id": "8pbnSo-CCLJF"
      },
      "execution_count": null,
      "outputs": []
    },
    {
      "cell_type": "markdown",
      "source": [
        "# [원소들의 곱과 합](https://school.programmers.co.kr/learn/courses/30/lessons/181929)"
      ],
      "metadata": {
        "id": "GkPgw3NEOhRu"
      }
    },
    {
      "cell_type": "code",
      "source": [
        "#include <string>\n",
        "#include <vector>\n",
        "#include <iostream>\n",
        "\n",
        "using namespace std;\n",
        "\n",
        "int solution(vector<int> num_list) {\n",
        "    // int answer = 0;\n",
        "    int mul=1, sum=0;\n",
        "    for(int i=0; i < num_list.size(); ++i)\n",
        "    {\n",
        "        mul *= num_list[i];\n",
        "        sum += num_list[i];\n",
        "    }\n",
        "    return sum*sum > mul? 1 : 0;\n",
        "}"
      ],
      "metadata": {
        "id": "_FGnr-HWOjbM"
      },
      "execution_count": null,
      "outputs": []
    },
    {
      "cell_type": "markdown",
      "source": [
        "# [더 크게 합치기](https://school.programmers.co.kr/learn/courses/30/lessons/181939)"
      ],
      "metadata": {
        "id": "5CXzLmJ9Q-cv"
      }
    },
    {
      "cell_type": "code",
      "source": [
        "# https://cplusplus.com/reference/string/stoi/"
      ],
      "metadata": {
        "id": "p7fRvHqSSs8V"
      },
      "execution_count": null,
      "outputs": []
    },
    {
      "cell_type": "code",
      "source": [
        "#include <string>\n",
        "#include <vector>\n",
        "\n",
        "using namespace std;\n",
        "\n",
        "int solution(int a, int b) {\n",
        "    string c = to_string(a), d = to_string(b);\n",
        "    return stoi(c + d) >= stoi(d + c) ? stoi(c + d) : stoi(d + c);\n",
        "\n",
        "}"
      ],
      "metadata": {
        "id": "OrcYtwdjQ-uN"
      },
      "execution_count": null,
      "outputs": []
    },
    {
      "cell_type": "markdown",
      "source": [
        "---"
      ],
      "metadata": {
        "id": "we8eM6tZRIxe"
      }
    },
    {
      "cell_type": "code",
      "source": [
        "#include <string>\n",
        "#include <vector>\n",
        "\n",
        "using namespace std;\n",
        "\n",
        "int solution(int a, int b) {\n",
        "    return max(stoi(to_string(a)+to_string(b)),stoi(to_string(b)+to_string(a)));\n",
        "}"
      ],
      "metadata": {
        "id": "dtJNQqvfRJ2U"
      },
      "execution_count": null,
      "outputs": []
    },
    {
      "cell_type": "markdown",
      "source": [
        "# [마지막 두 원소](https://school.programmers.co.kr/learn/courses/30/lessons/181927)"
      ],
      "metadata": {
        "id": "u95vlTJQcPvg"
      }
    },
    {
      "cell_type": "code",
      "source": [
        "vector<int> num_list\n",
        "num_list.push_back # 가능\n",
        "\n",
        "string = ''\n",
        "string.push_back()   # 1개씩.\n",
        "string.append() # 여러개\n",
        "string += \"\" # 여러개"
      ],
      "metadata": {
        "id": "zOykQqFRcToJ"
      },
      "execution_count": null,
      "outputs": []
    },
    {
      "cell_type": "code",
      "source": [
        "#include <string>\n",
        "#include <vector>\n",
        "\n",
        "using namespace std;\n",
        "\n",
        "vector<int> solution(vector<int> num_list) {\n",
        "    int len = num_list.size() -1;\n",
        "    num_list[len] > num_list[len-1] ? num_list.push_back(num_list[len] - num_list[len-1]) : num_list.push_back(num_list[len] * 2);\n",
        "    return num_list;\n",
        "}"
      ],
      "metadata": {
        "id": "AgqOMxzccPyb"
      },
      "execution_count": null,
      "outputs": []
    },
    {
      "cell_type": "markdown",
      "source": [
        "# [공배수](https://school.programmers.co.kr/learn/courses/30/lessons/181936)"
      ],
      "metadata": {
        "id": "J0dVDBaJeb_k"
      }
    },
    {
      "cell_type": "code",
      "source": [
        "#include <string>\n",
        "#include <vector>\n",
        "\n",
        "using namespace std;\n",
        "\n",
        "int solution(int number, int n, int m) {\n",
        "    return number % n == 0 && number % m == 0 ? 1 : 0;\n",
        "}"
      ],
      "metadata": {
        "id": "dVU_E4ncecCx"
      },
      "execution_count": null,
      "outputs": []
    }
  ]
}