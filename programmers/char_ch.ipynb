{
  "nbformat": 4,
  "nbformat_minor": 0,
  "metadata": {
    "colab": {
      "provenance": []
    },
    "kernelspec": {
      "name": "python3",
      "display_name": "Python 3"
    },
    "language_info": {
      "name": "python"
    }
  },
  "cells": [
    {
      "cell_type": "markdown",
      "source": [
        "# [특수문자 출력하기](https://school.programmers.co.kr/learn/courses/30/lessons/181948)"
      ],
      "metadata": {
        "id": "bR7VSMVR12Ds"
      }
    },
    {
      "cell_type": "code",
      "source": [
        "#include <iostream>\n",
        "\n",
        "using namespace std;\n",
        "\n",
        "int main(void) {\n",
        "    cout << \"!@#$%^&*(\\\\'\\\"<>?:;\";\n",
        "    return 0;\n",
        "}"
      ],
      "metadata": {
        "id": "vRBrRSBl1xWj"
      },
      "execution_count": null,
      "outputs": []
    },
    {
      "cell_type": "markdown",
      "source": [
        "---"
      ],
      "metadata": {
        "id": "zpgz9bbt17nD"
      }
    },
    {
      "cell_type": "code",
      "execution_count": null,
      "metadata": {
        "id": "kRAUHhjz1wvf"
      },
      "outputs": [],
      "source": [
        "#include <iostream>\n",
        "\n",
        "using namespace std;\n",
        "\n",
        "int main(void) {\n",
        "    cout << R\"(!@#$%^&*(\\'\"<>?:;)\";\n",
        "}\n"
      ]
    },
    {
      "cell_type": "markdown",
      "source": [
        "# [대소문자 바꿔서 출력](https://school.programmers.co.kr/learn/courses/30/lessons/181949)"
      ],
      "metadata": {
        "id": "lxWJb6E04diz"
      }
    },
    {
      "cell_type": "code",
      "source": [
        "#include <iostream>\n",
        "#include <string>\n",
        "\n",
        "using namespace std;\n",
        "\n",
        "int main(void) {\n",
        "    string str;\n",
        "    cin >> str;\n",
        "    for(int i=0; i < str.size(); ++i){\n",
        "        if(isupper(str[i])){\n",
        "            str[i] += 32;\n",
        "        }\n",
        "        else str[i] -= 32;\n",
        "\n",
        "        cout << str[i];\n",
        "    }\n",
        "    return 0;\n",
        "}"
      ],
      "metadata": {
        "id": "6mH6GxXY4d9k"
      },
      "execution_count": null,
      "outputs": []
    },
    {
      "cell_type": "code",
      "source": [
        "#include <iostream>\n",
        "#include <string>\n",
        "#include <algorithm>\n",
        "using namespace std;\n",
        "\n",
        "int main(void) {\n",
        "    string str;\n",
        "    cin >> str;\n",
        "    for(char ch : str)\n",
        "    {\n",
        "        if(isupper(ch))\n",
        "            cout << (char)tolower(ch);\n",
        "        else\n",
        "            cout <<  (char)toupper(ch);\n",
        "    }\n",
        "    return 0;\n",
        "}"
      ],
      "metadata": {
        "id": "_OABh3i74pz-"
      },
      "execution_count": null,
      "outputs": []
    }
  ]
}