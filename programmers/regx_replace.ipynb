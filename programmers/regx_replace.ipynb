{
  "nbformat": 4,
  "nbformat_minor": 0,
  "metadata": {
    "colab": {
      "provenance": []
    },
    "kernelspec": {
      "name": "python3",
      "display_name": "Python 3"
    },
    "language_info": {
      "name": "python"
    }
  },
  "cells": [
    {
      "cell_type": "markdown",
      "source": [
        "# [rny_string](https://school.programmers.co.kr/learn/courses/30/lessons/181863)"
      ],
      "metadata": {
        "id": "9_tgv4_kZpmu"
      }
    },
    {
      "cell_type": "code",
      "execution_count": null,
      "metadata": {
        "id": "3G0_z77zZpEZ"
      },
      "outputs": [],
      "source": [
        "#include <string>\n",
        "#include <vector>\n",
        "\n",
        "using namespace std;\n",
        "\n",
        "string solution(string rny_string) {\n",
        "    string answer = \"\";\n",
        "    for (int i; i < rny_string.size(); ++i){\n",
        "        if (rny_string[i] == 'm'){\n",
        "        rny_string.replace(i, 1, \"rn\");\n",
        "        }}\n",
        "    return rny_string;\n",
        "}"
      ]
    },
    {
      "cell_type": "code",
      "source": [
        "#include <string>\n",
        "using namespace std;\n",
        "\n",
        "string solution(string rny_string){\n",
        "    string answer;\n",
        "    for(auto ch : rny_string){\n",
        "        if(ch=='m'){\n",
        "            answer += \"rn\";\n",
        "            // answer.append(\"rn\");\n",
        "            // rny_string.replace(i, 1, \"rn\");\n",
        "        } else answer += ch;\n",
        "    }\n",
        "    return answer;\n",
        "}"
      ],
      "metadata": {
        "id": "lKgAxk34ce4i"
      },
      "execution_count": null,
      "outputs": []
    },
    {
      "cell_type": "markdown",
      "source": [
        "---"
      ],
      "metadata": {
        "id": "Mw83f_EravGh"
      }
    },
    {
      "cell_type": "code",
      "source": [
        "#include <string>\n",
        "#include <vector>\n",
        "#include <regex>\n",
        "\n",
        "using namespace std;\n",
        "\n",
        "string solution(string rny_string) {\n",
        "    string answer = \"\";\n",
        "    rny_string = regex_replace(rny_string, regex(\"m\"),\"rn\");\n",
        "    answer= rny_string;\n",
        "    return answer;\n",
        "}"
      ],
      "metadata": {
        "id": "JFOSSws_an3g"
      },
      "execution_count": null,
      "outputs": []
    },
    {
      "cell_type": "markdown",
      "source": [
        "# [카운트업](https://school.programmers.co.kr/learn/courses/30/lessons/181920)"
      ],
      "metadata": {
        "id": "h7Rau2eadbHX"
      }
    },
    {
      "cell_type": "code",
      "source": [
        "#include <string>\n",
        "#include <vector>\n",
        "\n",
        "using namespace std;\n",
        "\n",
        "vector<int> solution(int start_num, int end_num) {\n",
        "    vector<int> answer;\n",
        "    for(int i=start_num; i<=end_num; ++i){\n",
        "        answer.push_back(i);\n",
        "    }\n",
        "    return answer;\n",
        "}"
      ],
      "metadata": {
        "id": "r0tpRofbdbIa"
      },
      "execution_count": null,
      "outputs": []
    },
    {
      "cell_type": "markdown",
      "source": [
        "---"
      ],
      "metadata": {
        "id": "BWQdGYT3dsNy"
      }
    },
    {
      "cell_type": "code",
      "source": [
        "#include <vector>\n",
        "\n",
        "using namespace std;\n",
        "\n",
        "vector<int> solution(int start, int end) {\n",
        "    vector<int> answer(end - start + 1);\n",
        "    int inx = 0;\n",
        "    for(int i = start; i <= end; i++) answer[inx++] = i;\n",
        "    return answer;\n",
        "}"
      ],
      "metadata": {
        "id": "nUxLwsOjdtAL"
      },
      "execution_count": null,
      "outputs": []
    }
  ]
}