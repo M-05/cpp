{
  "nbformat": 4,
  "nbformat_minor": 0,
  "metadata": {
    "colab": {
      "provenance": []
    },
    "kernelspec": {
      "name": "python3",
      "display_name": "Python 3"
    },
    "language_info": {
      "name": "python"
    }
  },
  "cells": [
    {
      "cell_type": "markdown",
      "source": [
        "# [배열에서 문자열 대소문자 변환하기](https://school.programmers.co.kr/learn/courses/30/lessons/181875)"
      ],
      "metadata": {
        "id": "KlIob7so6a4q"
      }
    },
    {
      "cell_type": "code",
      "source": [
        "transform (InputIterator first1, InputIterator last1, OutputIterator result, UnaryOperator op)\n",
        "\n",
        "unary operation\n",
        "Applies op to each of the elements in the range [first1,last1) and stores the value returned by each operation in the range that begins at result."
      ],
      "metadata": {
        "id": "8Tq-umQh9YnG"
      },
      "execution_count": null,
      "outputs": []
    },
    {
      "cell_type": "code",
      "source": [
        "#include <string>\n",
        "#include <algorithm>\n",
        "\n",
        "using namespace std;\n",
        "\n",
        "vector<string> solution(vector<string> strArr) {\n",
        "    int idx = 0;\n",
        "    for(auto& ch : strArr){\n",
        "        if (idx & 1) transform(ch.begin(), ch.end(), ch.begin(), ::toupper);\n",
        "        else transform(ch.begin(), ch.end(), ch.begin(), ::tolower);\n",
        "        ++idx;\n",
        "    }\n",
        "    return strArr;\n",
        "}"
      ],
      "metadata": {
        "id": "slNyDik86a9d"
      },
      "execution_count": null,
      "outputs": []
    }
  ]
}